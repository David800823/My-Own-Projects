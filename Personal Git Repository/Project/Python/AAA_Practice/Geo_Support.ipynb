{
 "cells": [
  {
   "cell_type": "code",
   "execution_count": 3,
   "metadata": {},
   "outputs": [],
   "source": [
    "#pip install python-geosupport"
   ]
  },
  {
   "cell_type": "code",
   "execution_count": 4,
   "metadata": {},
   "outputs": [],
   "source": [
    "import pandas as pd\n",
    "df = pd.read_csv(\"Address_File.csv\", delimiter=\",\")"
   ]
  },
  {
   "cell_type": "code",
   "execution_count": 5,
   "metadata": {},
   "outputs": [
    {
     "data": {
      "text/plain": [
       "'26'"
      ]
     },
     "execution_count": 5,
     "metadata": {},
     "output_type": "execute_result"
    }
   ],
   "source": [
    "# Import the library and create a `Geosupport` object.\n",
    "from geosupport import Geosupport\n",
    "g = Geosupport()\n",
    "\n",
    "# Call the address processing function by name\n",
    "result = g.address(house_number=305, street_name='Court Street', borough_code='3') \n",
    "result[\"State Senatorial District\"]"
   ]
  },
  {
   "cell_type": "code",
   "execution_count": 6,
   "metadata": {},
   "outputs": [
    {
     "data": {
      "text/plain": [
       "'39'"
      ]
     },
     "execution_count": 6,
     "metadata": {},
     "output_type": "execute_result"
    }
   ],
   "source": [
    "#Retrieve City Council District\n",
    "result[\"City Council District\"]"
   ]
  },
  {
   "cell_type": "code",
   "execution_count": 7,
   "metadata": {},
   "outputs": [
    {
     "name": "stdout",
     "output_type": "stream",
     "text": [
      "   Record ID       Street Name  Borough State  Zipcode\n",
      "0          1  305 Court Street        3    NY    11231\n",
      "1          2      456 Broadway        1    NY    10013\n",
      "2          3    789 Park Place        3    NY    11216\n",
      "3          4     969 43 Street        3    NY    11219\n",
      "4          5     505 51 Street        3    NY    11220\n"
     ]
    }
   ],
   "source": [
    "#Replace Boroughs with Code number\n",
    "df['Borough'] = df['Borough'].replace(['New York', \"Bronx\", \"Brooklyn\", \"Queens\", \"Staten Island\"], [1,2,3,4,5])\n",
    "print(df)"
   ]
  },
  {
   "cell_type": "code",
   "execution_count": 8,
   "metadata": {},
   "outputs": [],
   "source": [
    "#Split address into House Number and Street Number\n",
    "df[[\"House_Number\", \"Street_Number\"]] = df['Street Name'].str.split(' ', expand=True, n = 1)"
   ]
  },
  {
   "cell_type": "code",
   "execution_count": 9,
   "metadata": {},
   "outputs": [],
   "source": [
    "#Edit the datatpes\n",
    "df.dtypes\n",
    "df['House_Number'] = df['House_Number'].astype(int)\n",
    "df['Street_Number'] = df['Street_Number'].astype(str)\n",
    "df['Borough'] = df['Borough'].astype(str)"
   ]
  },
  {
   "cell_type": "code",
   "execution_count": 10,
   "metadata": {},
   "outputs": [],
   "source": [
    "#create a list for city council, assembly district, and congressional district\n",
    "city_council = []\n",
    "assembly_district = []\n",
    "congressional_district = []\n",
    "senate_district =[]\n",
    "\n",
    "# Loop through each row in the DataFrame.\n",
    "for index, row in df.iterrows():\n",
    "  # Create an Address object using the House Number, Street Number, and Borough.\n",
    "\n",
    "  h = row[\"House_Number\"]\n",
    "  s = row[\"Street_Number\"]\n",
    "  b = row[\"Borough\"]\n",
    "\n",
    "  #Get the result\n",
    "  result = g.address(house_number=h, street_name= s, borough_code= b) \n",
    "\n",
    "  #Get City Council District\n",
    "  city_council.append(result[\"City Council District\"])\n",
    "\n",
    "  #Get Assembly District\n",
    "  assembly_district.append(result[\"Assembly District\"])\n",
    "\n",
    "  #Get Congressional District\n",
    "  congressional_district.append(result[\"Congressional District\"])\n",
    "\n",
    "  #Get Senate District\n",
    "  senate_district.append(result[\"State Senatorial District\"])\n",
    "\n",
    "#add the 3 list as column to the dataframe\n",
    "df[\"City Council\"] = city_council\n",
    "df[\"Assembly District\"] = assembly_district\n",
    "df[\"Congressional District\"] = congressional_district\n",
    "df[\"Senate District\"] = senate_district"
   ]
  },
  {
   "cell_type": "code",
   "execution_count": 11,
   "metadata": {},
   "outputs": [
    {
     "data": {
      "text/html": [
       "<div>\n",
       "<style scoped>\n",
       "    .dataframe tbody tr th:only-of-type {\n",
       "        vertical-align: middle;\n",
       "    }\n",
       "\n",
       "    .dataframe tbody tr th {\n",
       "        vertical-align: top;\n",
       "    }\n",
       "\n",
       "    .dataframe thead th {\n",
       "        text-align: right;\n",
       "    }\n",
       "</style>\n",
       "<table border=\"1\" class=\"dataframe\">\n",
       "  <thead>\n",
       "    <tr style=\"text-align: right;\">\n",
       "      <th></th>\n",
       "      <th>Record ID</th>\n",
       "      <th>Street Name</th>\n",
       "      <th>Borough</th>\n",
       "      <th>State</th>\n",
       "      <th>Zipcode</th>\n",
       "      <th>House_Number</th>\n",
       "      <th>Street_Number</th>\n",
       "      <th>City Council</th>\n",
       "      <th>Assembly District</th>\n",
       "      <th>Congressional District</th>\n",
       "      <th>Senate District</th>\n",
       "    </tr>\n",
       "  </thead>\n",
       "  <tbody>\n",
       "    <tr>\n",
       "      <th>0</th>\n",
       "      <td>1</td>\n",
       "      <td>305 Court Street</td>\n",
       "      <td>3</td>\n",
       "      <td>NY</td>\n",
       "      <td>11231</td>\n",
       "      <td>305</td>\n",
       "      <td>Court Street</td>\n",
       "      <td>39</td>\n",
       "      <td>52</td>\n",
       "      <td>10</td>\n",
       "      <td>26</td>\n",
       "    </tr>\n",
       "    <tr>\n",
       "      <th>1</th>\n",
       "      <td>2</td>\n",
       "      <td>456 Broadway</td>\n",
       "      <td>1</td>\n",
       "      <td>NY</td>\n",
       "      <td>10013</td>\n",
       "      <td>456</td>\n",
       "      <td>Broadway</td>\n",
       "      <td>01</td>\n",
       "      <td>66</td>\n",
       "      <td>10</td>\n",
       "      <td>27</td>\n",
       "    </tr>\n",
       "    <tr>\n",
       "      <th>2</th>\n",
       "      <td>3</td>\n",
       "      <td>789 Park Place</td>\n",
       "      <td>3</td>\n",
       "      <td>NY</td>\n",
       "      <td>11216</td>\n",
       "      <td>789</td>\n",
       "      <td>Park Place</td>\n",
       "      <td>36</td>\n",
       "      <td>43</td>\n",
       "      <td>09</td>\n",
       "      <td>20</td>\n",
       "    </tr>\n",
       "    <tr>\n",
       "      <th>3</th>\n",
       "      <td>4</td>\n",
       "      <td>969 43 Street</td>\n",
       "      <td>3</td>\n",
       "      <td>NY</td>\n",
       "      <td>11219</td>\n",
       "      <td>969</td>\n",
       "      <td>43 Street</td>\n",
       "      <td>38</td>\n",
       "      <td>51</td>\n",
       "      <td>10</td>\n",
       "      <td>17</td>\n",
       "    </tr>\n",
       "    <tr>\n",
       "      <th>4</th>\n",
       "      <td>5</td>\n",
       "      <td>505 51 Street</td>\n",
       "      <td>3</td>\n",
       "      <td>NY</td>\n",
       "      <td>11220</td>\n",
       "      <td>505</td>\n",
       "      <td>51 Street</td>\n",
       "      <td>38</td>\n",
       "      <td>51</td>\n",
       "      <td>10</td>\n",
       "      <td>26</td>\n",
       "    </tr>\n",
       "  </tbody>\n",
       "</table>\n",
       "</div>"
      ],
      "text/plain": [
       "   Record ID       Street Name Borough State  Zipcode  House_Number  \\\n",
       "0          1  305 Court Street       3    NY    11231           305   \n",
       "1          2      456 Broadway       1    NY    10013           456   \n",
       "2          3    789 Park Place       3    NY    11216           789   \n",
       "3          4     969 43 Street       3    NY    11219           969   \n",
       "4          5     505 51 Street       3    NY    11220           505   \n",
       "\n",
       "  Street_Number City Council Assembly District Congressional District  \\\n",
       "0  Court Street           39                52                     10   \n",
       "1      Broadway           01                66                     10   \n",
       "2    Park Place           36                43                     09   \n",
       "3     43 Street           38                51                     10   \n",
       "4     51 Street           38                51                     10   \n",
       "\n",
       "  Senate District  \n",
       "0              26  \n",
       "1              27  \n",
       "2              20  \n",
       "3              17  \n",
       "4              26  "
      ]
     },
     "execution_count": 11,
     "metadata": {},
     "output_type": "execute_result"
    }
   ],
   "source": [
    "df"
   ]
  },
  {
   "cell_type": "code",
   "execution_count": 12,
   "metadata": {},
   "outputs": [],
   "source": [
    "df.to_csv('Updated_Imports.csv')"
   ]
  }
 ],
 "metadata": {
  "kernelspec": {
   "display_name": "Python 3",
   "language": "python",
   "name": "python3"
  },
  "language_info": {
   "codemirror_mode": {
    "name": "ipython",
    "version": 3
   },
   "file_extension": ".py",
   "mimetype": "text/x-python",
   "name": "python",
   "nbconvert_exporter": "python",
   "pygments_lexer": "ipython3",
   "version": "3.10.2"
  }
 },
 "nbformat": 4,
 "nbformat_minor": 2
}
