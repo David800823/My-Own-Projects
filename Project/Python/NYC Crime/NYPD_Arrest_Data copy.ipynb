{
  "cells": [
    {
      "cell_type": "markdown",
      "metadata": {},
      "source": [
        "# Data Analysis on NYC Crime\n",
        "\n",
        "## Problems?\n",
        "I want to leave my home and I am open to live in the 5 boroughs of NYC. But I heard some boroughs like the Bronx is surronded in crime.\n",
        "\n",
        "In this Analysis, I will do a deep dive in the crime in NYC. I will see if:\n",
        "1) The Bronx is the place with the highest crime rate. \n",
        "2) The place with the lowest crime rate.\n",
        "3) Who is more likely to create these crimes."
      ]
    },
    {
      "cell_type": "markdown",
      "metadata": {},
      "source": [
        "## Preparing Data\n",
        "I found this data in the NYC open data set. It has 19 columns with over 110000 rows of data. Below you can find the link to the data.\n",
        "\n",
        "https://data.cityofnewyork.us/Public-Safety/NYPD-Arrest-Data-Year-to-Date-/uip8-fykc\n"
      ]
    },
    {
      "cell_type": "markdown",
      "metadata": {},
      "source": [
        "## Process\n",
        "In getting the data I used an API provided by NYC. I had to change the limit in the API to give me all the data available. \n",
        "\n",
        "I changed it from 2000 to 200000. \n",
        "\n",
        "Check out the code below."
      ]
    },
    {
      "cell_type": "code",
      "execution_count": 1,
      "metadata": {
        "colab": {
          "base_uri": "https://localhost:8080/"
        },
        "id": "T_XLKtReZJms",
        "outputId": "030a427d-9621-40ee-e0c6-d6299699baa3"
      },
      "outputs": [],
      "source": [
        "#Install sodapy\n",
        "#!pip install sodapy"
      ]
    },
    {
      "cell_type": "code",
      "execution_count": 2,
      "metadata": {},
      "outputs": [],
      "source": [
        "#install pandas\n",
        "#pip install pandas"
      ]
    },
    {
      "cell_type": "code",
      "execution_count": 4,
      "metadata": {
        "colab": {
          "base_uri": "https://localhost:8080/"
        },
        "id": "ItXUrAHbYelh",
        "outputId": "50f04a4b-2937-46ec-cc5f-44856550ccf7"
      },
      "outputs": [
        {
          "name": "stderr",
          "output_type": "stream",
          "text": [
            "WARNING:root:Requests made without an app_token will be subject to strict throttling limits.\n"
          ]
        }
      ],
      "source": [
        "#!/usr/bin/env python\n",
        "\n",
        "# make sure to install these packages before running:\n",
        "# pip install pandas\n",
        "# pip install sodapy\n",
        "\n",
        "import pandas as pd\n",
        "from sodapy import Socrata\n",
        "\n",
        "# Unauthenticated client only works with public data sets. Note 'None'\n",
        "# in place of application token, and no username or password:\n",
        "client = Socrata(\"data.cityofnewyork.us\", None)\n",
        "\n",
        "# Example authenticated client (needed for non-public datasets):\n",
        "# client = Socrata(data.cityofnewyork.us,\n",
        "#                  MyAppToken,\n",
        "#                  username=\"user@example.com\",\n",
        "#                  password=\"AFakePassword\")\n",
        "\n",
        "# First 2000 results, returned as JSON from API / converted to Python list of\n",
        "# dictionaries by sodapy.\n",
        "results = client.get(\"8h9b-rp9u\", limit=5500000)\n",
        "\n",
        "# Convert to pandas DataFrame\n",
        "results_df = pd.DataFrame.from_records(results)"
      ]
    },
    {
      "cell_type": "markdown",
      "metadata": {},
      "source": [
        "\n",
        "I changed the limit from 2000 to 200000 to give me all the data available. \n"
      ]
    },
    {
      "cell_type": "code",
      "execution_count": null,
      "metadata": {
        "colab": {
          "base_uri": "https://localhost:8080/",
          "height": 473
        },
        "id": "BUPREmJ2bIFz",
        "outputId": "38aa0ce1-29c1-46d9-927e-7c22730c6ee6"
      },
      "outputs": [
        {
          "data": {
            "text/html": [
              "<div>\n",
              "<style scoped>\n",
              "    .dataframe tbody tr th:only-of-type {\n",
              "        vertical-align: middle;\n",
              "    }\n",
              "\n",
              "    .dataframe tbody tr th {\n",
              "        vertical-align: top;\n",
              "    }\n",
              "\n",
              "    .dataframe thead th {\n",
              "        text-align: right;\n",
              "    }\n",
              "</style>\n",
              "<table border=\"1\" class=\"dataframe\">\n",
              "  <thead>\n",
              "    <tr style=\"text-align: right;\">\n",
              "      <th></th>\n",
              "      <th>arrest_key</th>\n",
              "      <th>arrest_date</th>\n",
              "      <th>pd_cd</th>\n",
              "      <th>law_code</th>\n",
              "      <th>law_cat_cd</th>\n",
              "      <th>arrest_boro</th>\n",
              "      <th>arrest_precinct</th>\n",
              "      <th>jurisdiction_code</th>\n",
              "      <th>age_group</th>\n",
              "      <th>perp_sex</th>\n",
              "      <th>...</th>\n",
              "      <th>longitude</th>\n",
              "      <th>lon_lat</th>\n",
              "      <th>:@computed_region_efsh_h5xi</th>\n",
              "      <th>:@computed_region_f5dn_yrer</th>\n",
              "      <th>:@computed_region_yeji_bk3q</th>\n",
              "      <th>:@computed_region_92fq_4b7q</th>\n",
              "      <th>:@computed_region_sbqj_enih</th>\n",
              "      <th>pd_desc</th>\n",
              "      <th>ky_cd</th>\n",
              "      <th>ofns_desc</th>\n",
              "    </tr>\n",
              "  </thead>\n",
              "  <tbody>\n",
              "    <tr>\n",
              "      <th>999995</th>\n",
              "      <td>175929954</td>\n",
              "      <td>2018-03-15T00:00:00.000</td>\n",
              "      <td>339</td>\n",
              "      <td>PL 1552500</td>\n",
              "      <td>M</td>\n",
              "      <td>M</td>\n",
              "      <td>14</td>\n",
              "      <td>0</td>\n",
              "      <td>18-24</td>\n",
              "      <td>F</td>\n",
              "      <td>...</td>\n",
              "      <td>-73.98837157699995</td>\n",
              "      <td>{'type': 'Point', 'coordinates': [-73.98837157...</td>\n",
              "      <td>13094</td>\n",
              "      <td>11</td>\n",
              "      <td>4</td>\n",
              "      <td>10</td>\n",
              "      <td>8</td>\n",
              "      <td>LARCENY,PETIT FROM OPEN AREAS,UNCLASSIFIED</td>\n",
              "      <td>341</td>\n",
              "      <td>PETIT LARCENY</td>\n",
              "    </tr>\n",
              "    <tr>\n",
              "      <th>999996</th>\n",
              "      <td>175678433</td>\n",
              "      <td>2018-03-08T00:00:00.000</td>\n",
              "      <td>101</td>\n",
              "      <td>PL 1200001</td>\n",
              "      <td>M</td>\n",
              "      <td>M</td>\n",
              "      <td>18</td>\n",
              "      <td>97</td>\n",
              "      <td>18-24</td>\n",
              "      <td>M</td>\n",
              "      <td>...</td>\n",
              "      <td>-73.98784212899994</td>\n",
              "      <td>{'type': 'Point', 'coordinates': [-73.98784212...</td>\n",
              "      <td>12081</td>\n",
              "      <td>12</td>\n",
              "      <td>4</td>\n",
              "      <td>19</td>\n",
              "      <td>10</td>\n",
              "      <td>ASSAULT 3</td>\n",
              "      <td>344</td>\n",
              "      <td>ASSAULT 3 &amp; RELATED OFFENSES</td>\n",
              "    </tr>\n",
              "    <tr>\n",
              "      <th>999997</th>\n",
              "      <td>178327436</td>\n",
              "      <td>2018-04-19T00:00:00.000</td>\n",
              "      <td>478</td>\n",
              "      <td>PL 1651503</td>\n",
              "      <td>M</td>\n",
              "      <td>K</td>\n",
              "      <td>60</td>\n",
              "      <td>1</td>\n",
              "      <td>18-24</td>\n",
              "      <td>M</td>\n",
              "      <td>...</td>\n",
              "      <td>-73.98120362499998</td>\n",
              "      <td>{'type': 'Point', 'coordinates': [-73.98120362...</td>\n",
              "      <td>18184</td>\n",
              "      <td>21</td>\n",
              "      <td>2</td>\n",
              "      <td>45</td>\n",
              "      <td>35</td>\n",
              "      <td>THEFT OF SERVICES, UNCLASSIFIED</td>\n",
              "      <td>343</td>\n",
              "      <td>OTHER OFFENSES RELATED TO THEFT</td>\n",
              "    </tr>\n",
              "    <tr>\n",
              "      <th>999998</th>\n",
              "      <td>176290671</td>\n",
              "      <td>2018-03-25T00:00:00.000</td>\n",
              "      <td>101</td>\n",
              "      <td>PL 1200001</td>\n",
              "      <td>M</td>\n",
              "      <td>M</td>\n",
              "      <td>7</td>\n",
              "      <td>0</td>\n",
              "      <td>45-64</td>\n",
              "      <td>M</td>\n",
              "      <td>...</td>\n",
              "      <td>-73.98754415899998</td>\n",
              "      <td>{'type': 'Point', 'coordinates': [-73.98754415...</td>\n",
              "      <td>11723</td>\n",
              "      <td>70</td>\n",
              "      <td>4</td>\n",
              "      <td>32</td>\n",
              "      <td>4</td>\n",
              "      <td>ASSAULT 3</td>\n",
              "      <td>344</td>\n",
              "      <td>ASSAULT 3 &amp; RELATED OFFENSES</td>\n",
              "    </tr>\n",
              "    <tr>\n",
              "      <th>999999</th>\n",
              "      <td>176313446</td>\n",
              "      <td>2018-03-26T00:00:00.000</td>\n",
              "      <td>397</td>\n",
              "      <td>PL 1601001</td>\n",
              "      <td>F</td>\n",
              "      <td>B</td>\n",
              "      <td>43</td>\n",
              "      <td>0</td>\n",
              "      <td>&lt;18</td>\n",
              "      <td>M</td>\n",
              "      <td>...</td>\n",
              "      <td>-73.87017045</td>\n",
              "      <td>{'type': 'Point', 'coordinates': [-73.87017045...</td>\n",
              "      <td>11611</td>\n",
              "      <td>58</td>\n",
              "      <td>5</td>\n",
              "      <td>31</td>\n",
              "      <td>26</td>\n",
              "      <td>ROBBERY,UNCLASSIFIED,OPEN AREAS</td>\n",
              "      <td>105</td>\n",
              "      <td>ROBBERY</td>\n",
              "    </tr>\n",
              "  </tbody>\n",
              "</table>\n",
              "<p>5 rows × 24 columns</p>\n",
              "</div>"
            ],
            "text/plain": [
              "       arrest_key              arrest_date pd_cd    law_code law_cat_cd  \\\n",
              "999995  175929954  2018-03-15T00:00:00.000   339  PL 1552500          M   \n",
              "999996  175678433  2018-03-08T00:00:00.000   101  PL 1200001          M   \n",
              "999997  178327436  2018-04-19T00:00:00.000   478  PL 1651503          M   \n",
              "999998  176290671  2018-03-25T00:00:00.000   101  PL 1200001          M   \n",
              "999999  176313446  2018-03-26T00:00:00.000   397  PL 1601001          F   \n",
              "\n",
              "       arrest_boro arrest_precinct jurisdiction_code age_group perp_sex  ...  \\\n",
              "999995           M              14                 0     18-24        F  ...   \n",
              "999996           M              18                97     18-24        M  ...   \n",
              "999997           K              60                 1     18-24        M  ...   \n",
              "999998           M               7                 0     45-64        M  ...   \n",
              "999999           B              43                 0       <18        M  ...   \n",
              "\n",
              "                 longitude                                            lon_lat  \\\n",
              "999995  -73.98837157699995  {'type': 'Point', 'coordinates': [-73.98837157...   \n",
              "999996  -73.98784212899994  {'type': 'Point', 'coordinates': [-73.98784212...   \n",
              "999997  -73.98120362499998  {'type': 'Point', 'coordinates': [-73.98120362...   \n",
              "999998  -73.98754415899998  {'type': 'Point', 'coordinates': [-73.98754415...   \n",
              "999999        -73.87017045  {'type': 'Point', 'coordinates': [-73.87017045...   \n",
              "\n",
              "       :@computed_region_efsh_h5xi :@computed_region_f5dn_yrer  \\\n",
              "999995                       13094                          11   \n",
              "999996                       12081                          12   \n",
              "999997                       18184                          21   \n",
              "999998                       11723                          70   \n",
              "999999                       11611                          58   \n",
              "\n",
              "       :@computed_region_yeji_bk3q :@computed_region_92fq_4b7q  \\\n",
              "999995                           4                          10   \n",
              "999996                           4                          19   \n",
              "999997                           2                          45   \n",
              "999998                           4                          32   \n",
              "999999                           5                          31   \n",
              "\n",
              "       :@computed_region_sbqj_enih  \\\n",
              "999995                           8   \n",
              "999996                          10   \n",
              "999997                          35   \n",
              "999998                           4   \n",
              "999999                          26   \n",
              "\n",
              "                                           pd_desc ky_cd  \\\n",
              "999995  LARCENY,PETIT FROM OPEN AREAS,UNCLASSIFIED   341   \n",
              "999996                                   ASSAULT 3   344   \n",
              "999997             THEFT OF SERVICES, UNCLASSIFIED   343   \n",
              "999998                                   ASSAULT 3   344   \n",
              "999999             ROBBERY,UNCLASSIFIED,OPEN AREAS   105   \n",
              "\n",
              "                              ofns_desc  \n",
              "999995                    PETIT LARCENY  \n",
              "999996     ASSAULT 3 & RELATED OFFENSES  \n",
              "999997  OTHER OFFENSES RELATED TO THEFT  \n",
              "999998     ASSAULT 3 & RELATED OFFENSES  \n",
              "999999                          ROBBERY  \n",
              "\n",
              "[5 rows x 24 columns]"
            ]
          },
          "execution_count": 2,
          "metadata": {},
          "output_type": "execute_result"
        }
      ],
      "source": [
        "#checking the data last 6 rows.\n",
        "results_df.tail()"
      ]
    },
    {
      "cell_type": "markdown",
      "metadata": {},
      "source": [
        "After getting the data imma clean the sheet to make it easier to use. \n",
        "Lets look at race. "
      ]
    },
    {
      "cell_type": "code",
      "execution_count": null,
      "metadata": {},
      "outputs": [
        {
          "data": {
            "text/plain": [
              "array(['M', 'B', 'Q', 'K', 'S'], dtype=object)"
            ]
          },
          "execution_count": 3,
          "metadata": {},
          "output_type": "execute_result"
        }
      ],
      "source": [
        "#See unique values in Race because their is alot of races\n",
        "results_df[\"arrest_boro\"].unique()"
      ]
    },
    {
      "cell_type": "code",
      "execution_count": null,
      "metadata": {},
      "outputs": [],
      "source": [
        "#We notice something strange. White Hispanic and Black Hispanic.\n",
        "#This is a bit wierd so we are going to add them together and make it Hispanic\n",
        "results_df[\"perp_race\"] = results_df['perp_race'].replace(['BLACK HISPANIC', 'WHITE HISPANIC'], ['HISPANIC', 'HISPANIC'])"
      ]
    },
    {
      "cell_type": "code",
      "execution_count": null,
      "metadata": {},
      "outputs": [
        {
          "data": {
            "text/plain": [
              "array(['M', 'F'], dtype=object)"
            ]
          },
          "execution_count": 5,
          "metadata": {},
          "output_type": "execute_result"
        }
      ],
      "source": [
        "#Just to check our code worked\n",
        "results_df[\"perp_sex\"].unique()"
      ]
    },
    {
      "cell_type": "code",
      "execution_count": null,
      "metadata": {},
      "outputs": [],
      "source": []
    },
    {
      "cell_type": "code",
      "execution_count": null,
      "metadata": {},
      "outputs": [],
      "source": [
        "results_df[\"arrest_boro\"] = results_df['arrest_boro'].replace(['B', 'K', 'Q', 'M', 'S'], ['Bronx', 'Brooklyn', 'Queens', 'Manhattan', 'Staten Island'])\n",
        "results_df['perp_sex'] = results_df['perp_sex'].replace(['M', 'F'], [\"Male\", \"Female\"])"
      ]
    },
    {
      "cell_type": "markdown",
      "metadata": {},
      "source": [
        "\n",
        "Next i will drop the last 5 columns because they do not provide anything usefull in the analysis of our data. \n"
      ]
    },
    {
      "cell_type": "code",
      "execution_count": null,
      "metadata": {},
      "outputs": [],
      "source": [
        "#Drop the following colmumns\n",
        "results_df = results_df.drop(columns=[':@computed_region_f5dn_yrer', ':@computed_region_yeji_bk3q', ':@computed_region_92fq_4b7q', ':@computed_region_sbqj_enih',\":@computed_region_efsh_h5xi\" ,\"lon_lat\", \"pd_desc\" ])"
      ]
    },
    {
      "cell_type": "code",
      "execution_count": null,
      "metadata": {},
      "outputs": [
        {
          "data": {
            "text/plain": [
              "arrest_key              0\n",
              "arrest_date             0\n",
              "pd_cd                 235\n",
              "law_code              118\n",
              "law_cat_cd           6562\n",
              "arrest_boro             0\n",
              "arrest_precinct         0\n",
              "jurisdiction_code       6\n",
              "age_group              17\n",
              "perp_sex                0\n",
              "perp_race               0\n",
              "x_coord_cd              1\n",
              "y_coord_cd              1\n",
              "latitude                1\n",
              "longitude               1\n",
              "ky_cd                2989\n",
              "ofns_desc            2989\n",
              "dtype: int64"
            ]
          },
          "execution_count": 8,
          "metadata": {},
          "output_type": "execute_result"
        }
      ],
      "source": [
        "#Check if their are any null values\n",
        "results_df.isna().sum()"
      ]
    },
    {
      "cell_type": "markdown",
      "metadata": {},
      "source": [
        "Because we have a big sample size of over 110000, I will drop all the null values. We should still have a good amount of data to use and explore. "
      ]
    },
    {
      "cell_type": "code",
      "execution_count": null,
      "metadata": {},
      "outputs": [],
      "source": [
        "#dropping NA values\n",
        "results_df = results_df.dropna()"
      ]
    },
    {
      "cell_type": "code",
      "execution_count": null,
      "metadata": {},
      "outputs": [
        {
          "data": {
            "text/plain": [
              "(990547, 17)"
            ]
          },
          "execution_count": 10,
          "metadata": {},
          "output_type": "execute_result"
        }
      ],
      "source": [
        "#Checking the shape of the dataframe. \n",
        "results_df.shape"
      ]
    },
    {
      "cell_type": "code",
      "execution_count": null,
      "metadata": {},
      "outputs": [
        {
          "data": {
            "text/plain": [
              "arrest_key           0\n",
              "arrest_date          0\n",
              "pd_cd                0\n",
              "law_code             0\n",
              "law_cat_cd           0\n",
              "arrest_boro          0\n",
              "arrest_precinct      0\n",
              "jurisdiction_code    0\n",
              "age_group            0\n",
              "perp_sex             0\n",
              "perp_race            0\n",
              "x_coord_cd           0\n",
              "y_coord_cd           0\n",
              "latitude             0\n",
              "longitude            0\n",
              "ky_cd                0\n",
              "ofns_desc            0\n",
              "dtype: int64"
            ]
          },
          "execution_count": 11,
          "metadata": {},
          "output_type": "execute_result"
        }
      ],
      "source": [
        "results_df.isna().sum()"
      ]
    },
    {
      "cell_type": "markdown",
      "metadata": {},
      "source": [
        "As you can see, after cleaning the data we still have over 110000 rows of data. I will now save the dataframe into a csv for future analysis."
      ]
    },
    {
      "cell_type": "code",
      "execution_count": null,
      "metadata": {
        "id": "4LUemq2wOJpK"
      },
      "outputs": [],
      "source": [
        "#Dataframe to CSV\n",
        "csv_file = results_df.to_csv('NYPD_Arrest_Data_Historic.csv', index=False)\n"
      ]
    },
    {
      "cell_type": "markdown",
      "metadata": {},
      "source": [
        "## Analyze\n",
        "For my next step of the project I will analyze the data we have. I will use Tableau as a data visualization tool. \n",
        "\n",
        "Check Here for Tableau public.\n",
        "https://public.tableau.com/app/profile/david.sierra.perez8682/viz/NYCArrestData/ArrestbyBorough"
      ]
    }
  ],
  "metadata": {
    "colab": {
      "provenance": []
    },
    "kernelspec": {
      "display_name": "Python 3",
      "language": "python",
      "name": "python3"
    },
    "language_info": {
      "codemirror_mode": {
        "name": "ipython",
        "version": 3
      },
      "file_extension": ".py",
      "mimetype": "text/x-python",
      "name": "python",
      "nbconvert_exporter": "python",
      "pygments_lexer": "ipython3",
      "version": "3.10.2"
    },
    "vscode": {
      "interpreter": {
        "hash": "539c6590212209f0b34b7b7870917131eb72776e0ae41e41378aef3ea796ac75"
      }
    }
  },
  "nbformat": 4,
  "nbformat_minor": 0
}
