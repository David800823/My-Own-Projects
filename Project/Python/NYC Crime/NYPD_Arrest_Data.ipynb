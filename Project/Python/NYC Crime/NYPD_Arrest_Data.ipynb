{
  "cells": [
    {
      "cell_type": "markdown",
      "metadata": {},
      "source": [
        "# Data Analysis on NYC Crime\n",
        "\n",
        "## Problems?\n",
        "I want to leave my home and I am open to live in the 5 boroughs of NYC. But I heard some boroughs like the Bronx is surronded in crime.\n",
        "\n",
        "In this Analysis, I will do a deep dive in the crime in NYC. I will see if:\n",
        "1) The Bronx is the place with the highest crime rate. \n",
        "2) The place with the lowest crime rate.\n",
        "3) Who is more likely to create these crimes."
      ]
    },
    {
      "cell_type": "markdown",
      "metadata": {},
      "source": [
        "## Preparing Data\n",
        "I found this data in the NYC open data set. It has 19 columns with over 110000 rows of data. Below you can find the link to the data.\n",
        "\n",
        "https://data.cityofnewyork.us/Public-Safety/NYPD-Arrest-Data-Year-to-Date-/uip8-fykc\n"
      ]
    },
    {
      "cell_type": "markdown",
      "metadata": {},
      "source": [
        "## Process\n",
        "In getting the data I used an API provided by NYC. I had to change the limit in the API to give me all the data available. \n",
        "\n",
        "I changed it from 2000 to 200000. \n",
        "\n",
        "Check out the code below."
      ]
    },
    {
      "cell_type": "code",
      "execution_count": 18,
      "metadata": {
        "colab": {
          "base_uri": "https://localhost:8080/"
        },
        "id": "T_XLKtReZJms",
        "outputId": "030a427d-9621-40ee-e0c6-d6299699baa3"
      },
      "outputs": [],
      "source": [
        "#Install sodapy\n",
        "#!pip install sodapy"
      ]
    },
    {
      "cell_type": "code",
      "execution_count": 19,
      "metadata": {},
      "outputs": [],
      "source": [
        "#install pandas\n",
        "#pip install pandas"
      ]
    },
    {
      "cell_type": "code",
      "execution_count": 20,
      "metadata": {
        "colab": {
          "base_uri": "https://localhost:8080/"
        },
        "id": "ItXUrAHbYelh",
        "outputId": "50f04a4b-2937-46ec-cc5f-44856550ccf7"
      },
      "outputs": [
        {
          "name": "stderr",
          "output_type": "stream",
          "text": [
            "WARNING:root:Requests made without an app_token will be subject to strict throttling limits.\n"
          ]
        }
      ],
      "source": [
        "#!/usr/bin/env python\n",
        "\n",
        "# make sure to install these packages before running:\n",
        "# pip install pandas\n",
        "# pip install sodapy\n",
        "\n",
        "import pandas as pd\n",
        "import numpy as np\n",
        "from sodapy import Socrata\n",
        "\n",
        "# Unauthenticated client only works with public data sets. Note 'None'\n",
        "# in place of application token, and no username or password:\n",
        "client = Socrata(\"data.cityofnewyork.us\", None)\n",
        "\n",
        "# Example authenticated client (needed for non-public datasets):\n",
        "# client = Socrata(data.cityofnewyork.us,\n",
        "#                  MyAppToken,\n",
        "#                  username=\"user@example.com\",\n",
        "#                  password=\"AFakePassword\")\n",
        "\n",
        "# First 2000 results, returned as JSON from API / converted to Python list of\n",
        "# dictionaries by sodapy.\n",
        "results = client.get(\"uip8-fykc\", limit = 200000)\n",
        "\n",
        "# Convert to pandas DataFrame\n",
        "results_df = pd.DataFrame.from_records(results)"
      ]
    },
    {
      "cell_type": "markdown",
      "metadata": {},
      "source": [
        "\n",
        "I changed the limit from 2000 to 200000 to give me all the data available. \n"
      ]
    },
    {
      "cell_type": "code",
      "execution_count": 21,
      "metadata": {
        "colab": {
          "base_uri": "https://localhost:8080/",
          "height": 473
        },
        "id": "BUPREmJ2bIFz",
        "outputId": "38aa0ce1-29c1-46d9-927e-7c22730c6ee6"
      },
      "outputs": [
        {
          "data": {
            "text/html": [
              "<div>\n",
              "<style scoped>\n",
              "    .dataframe tbody tr th:only-of-type {\n",
              "        vertical-align: middle;\n",
              "    }\n",
              "\n",
              "    .dataframe tbody tr th {\n",
              "        vertical-align: top;\n",
              "    }\n",
              "\n",
              "    .dataframe thead th {\n",
              "        text-align: right;\n",
              "    }\n",
              "</style>\n",
              "<table border=\"1\" class=\"dataframe\">\n",
              "  <thead>\n",
              "    <tr style=\"text-align: right;\">\n",
              "      <th></th>\n",
              "      <th>arrest_key</th>\n",
              "      <th>arrest_date</th>\n",
              "      <th>pd_cd</th>\n",
              "      <th>pd_desc</th>\n",
              "      <th>ky_cd</th>\n",
              "      <th>ofns_desc</th>\n",
              "      <th>law_code</th>\n",
              "      <th>law_cat_cd</th>\n",
              "      <th>arrest_boro</th>\n",
              "      <th>arrest_precinct</th>\n",
              "      <th>...</th>\n",
              "      <th>x_coord_cd</th>\n",
              "      <th>y_coord_cd</th>\n",
              "      <th>latitude</th>\n",
              "      <th>longitude</th>\n",
              "      <th>geocoded_column</th>\n",
              "      <th>:@computed_region_f5dn_yrer</th>\n",
              "      <th>:@computed_region_yeji_bk3q</th>\n",
              "      <th>:@computed_region_92fq_4b7q</th>\n",
              "      <th>:@computed_region_sbqj_enih</th>\n",
              "      <th>:@computed_region_efsh_h5xi</th>\n",
              "    </tr>\n",
              "  </thead>\n",
              "  <tbody>\n",
              "    <tr>\n",
              "      <th>112566</th>\n",
              "      <td>267861068</td>\n",
              "      <td>2023-05-07T00:00:00.000</td>\n",
              "      <td>922</td>\n",
              "      <td>TRAFFIC,UNCLASSIFIED MISDEMEAN</td>\n",
              "      <td>348</td>\n",
              "      <td>VEHICLE AND TRAFFIC LAWS</td>\n",
              "      <td>VTL05110MU</td>\n",
              "      <td>M</td>\n",
              "      <td>Q</td>\n",
              "      <td>113</td>\n",
              "      <td>...</td>\n",
              "      <td>1046315</td>\n",
              "      <td>187088</td>\n",
              "      <td>40.6799807384666</td>\n",
              "      <td>-73.7762339071953</td>\n",
              "      <td>{'type': 'Point', 'coordinates': [-73.77623390...</td>\n",
              "      <td>41</td>\n",
              "      <td>3</td>\n",
              "      <td>6</td>\n",
              "      <td>71</td>\n",
              "      <td>24669</td>\n",
              "    </tr>\n",
              "    <tr>\n",
              "      <th>112567</th>\n",
              "      <td>270481110</td>\n",
              "      <td>2023-06-27T00:00:00.000</td>\n",
              "      <td>101</td>\n",
              "      <td>ASSAULT 3</td>\n",
              "      <td>344</td>\n",
              "      <td>ASSAULT 3 &amp; RELATED OFFENSES</td>\n",
              "      <td>PL 1200001</td>\n",
              "      <td>M</td>\n",
              "      <td>K</td>\n",
              "      <td>79</td>\n",
              "      <td>...</td>\n",
              "      <td>999872</td>\n",
              "      <td>187803</td>\n",
              "      <td>40.682141</td>\n",
              "      <td>-73.943673</td>\n",
              "      <td>{'type': 'Point', 'coordinates': [-73.943673, ...</td>\n",
              "      <td>69</td>\n",
              "      <td>2</td>\n",
              "      <td>49</td>\n",
              "      <td>51</td>\n",
              "      <td>17618</td>\n",
              "    </tr>\n",
              "    <tr>\n",
              "      <th>112568</th>\n",
              "      <td>267833542</td>\n",
              "      <td>2023-05-06T00:00:00.000</td>\n",
              "      <td>397</td>\n",
              "      <td>ROBBERY,OPEN AREA UNCLASSIFIED</td>\n",
              "      <td>105</td>\n",
              "      <td>ROBBERY</td>\n",
              "      <td>PL 1601502</td>\n",
              "      <td>F</td>\n",
              "      <td>B</td>\n",
              "      <td>43</td>\n",
              "      <td>...</td>\n",
              "      <td>1019852</td>\n",
              "      <td>241853</td>\n",
              "      <td>40.830435</td>\n",
              "      <td>-73.871349</td>\n",
              "      <td>{'type': 'Point', 'coordinates': [-73.871349, ...</td>\n",
              "      <td>58</td>\n",
              "      <td>5</td>\n",
              "      <td>31</td>\n",
              "      <td>26</td>\n",
              "      <td>11610</td>\n",
              "    </tr>\n",
              "    <tr>\n",
              "      <th>112569</th>\n",
              "      <td>268911088</td>\n",
              "      <td>2023-05-27T00:00:00.000</td>\n",
              "      <td>494</td>\n",
              "      <td>STOLEN PROPERTY 2,1,POSSESSION</td>\n",
              "      <td>111</td>\n",
              "      <td>POSSESSION OF STOLEN PROPERTY</td>\n",
              "      <td>PL 1654502</td>\n",
              "      <td>F</td>\n",
              "      <td>B</td>\n",
              "      <td>46</td>\n",
              "      <td>...</td>\n",
              "      <td>1011750</td>\n",
              "      <td>250274</td>\n",
              "      <td>40.853578</td>\n",
              "      <td>-73.900591</td>\n",
              "      <td>{'type': 'Point', 'coordinates': [-73.900591, ...</td>\n",
              "      <td>6</td>\n",
              "      <td>5</td>\n",
              "      <td>22</td>\n",
              "      <td>29</td>\n",
              "      <td>10935</td>\n",
              "    </tr>\n",
              "    <tr>\n",
              "      <th>112570</th>\n",
              "      <td>269584440</td>\n",
              "      <td>2023-06-09T00:00:00.000</td>\n",
              "      <td>439</td>\n",
              "      <td>LARCENY,GRAND FROM OPEN AREAS, UNATTENDED</td>\n",
              "      <td>109</td>\n",
              "      <td>GRAND LARCENY</td>\n",
              "      <td>PL 1553001</td>\n",
              "      <td>F</td>\n",
              "      <td>M</td>\n",
              "      <td>24</td>\n",
              "      <td>...</td>\n",
              "      <td>993372</td>\n",
              "      <td>229301</td>\n",
              "      <td>40.79605</td>\n",
              "      <td>-73.967052</td>\n",
              "      <td>{'type': 'Point', 'coordinates': [-73.967052, ...</td>\n",
              "      <td>20</td>\n",
              "      <td>4</td>\n",
              "      <td>23</td>\n",
              "      <td>15</td>\n",
              "      <td>12422</td>\n",
              "    </tr>\n",
              "  </tbody>\n",
              "</table>\n",
              "<p>5 rows × 24 columns</p>\n",
              "</div>"
            ],
            "text/plain": [
              "       arrest_key              arrest_date pd_cd  \\\n",
              "112566  267861068  2023-05-07T00:00:00.000   922   \n",
              "112567  270481110  2023-06-27T00:00:00.000   101   \n",
              "112568  267833542  2023-05-06T00:00:00.000   397   \n",
              "112569  268911088  2023-05-27T00:00:00.000   494   \n",
              "112570  269584440  2023-06-09T00:00:00.000   439   \n",
              "\n",
              "                                          pd_desc ky_cd  \\\n",
              "112566             TRAFFIC,UNCLASSIFIED MISDEMEAN   348   \n",
              "112567                                  ASSAULT 3   344   \n",
              "112568             ROBBERY,OPEN AREA UNCLASSIFIED   105   \n",
              "112569             STOLEN PROPERTY 2,1,POSSESSION   111   \n",
              "112570  LARCENY,GRAND FROM OPEN AREAS, UNATTENDED   109   \n",
              "\n",
              "                            ofns_desc    law_code law_cat_cd arrest_boro  \\\n",
              "112566       VEHICLE AND TRAFFIC LAWS  VTL05110MU          M           Q   \n",
              "112567   ASSAULT 3 & RELATED OFFENSES  PL 1200001          M           K   \n",
              "112568                        ROBBERY  PL 1601502          F           B   \n",
              "112569  POSSESSION OF STOLEN PROPERTY  PL 1654502          F           B   \n",
              "112570                  GRAND LARCENY  PL 1553001          F           M   \n",
              "\n",
              "       arrest_precinct  ... x_coord_cd y_coord_cd          latitude  \\\n",
              "112566             113  ...    1046315     187088  40.6799807384666   \n",
              "112567              79  ...     999872     187803         40.682141   \n",
              "112568              43  ...    1019852     241853         40.830435   \n",
              "112569              46  ...    1011750     250274         40.853578   \n",
              "112570              24  ...     993372     229301          40.79605   \n",
              "\n",
              "                longitude                                    geocoded_column  \\\n",
              "112566  -73.7762339071953  {'type': 'Point', 'coordinates': [-73.77623390...   \n",
              "112567         -73.943673  {'type': 'Point', 'coordinates': [-73.943673, ...   \n",
              "112568         -73.871349  {'type': 'Point', 'coordinates': [-73.871349, ...   \n",
              "112569         -73.900591  {'type': 'Point', 'coordinates': [-73.900591, ...   \n",
              "112570         -73.967052  {'type': 'Point', 'coordinates': [-73.967052, ...   \n",
              "\n",
              "       :@computed_region_f5dn_yrer :@computed_region_yeji_bk3q  \\\n",
              "112566                          41                           3   \n",
              "112567                          69                           2   \n",
              "112568                          58                           5   \n",
              "112569                           6                           5   \n",
              "112570                          20                           4   \n",
              "\n",
              "       :@computed_region_92fq_4b7q :@computed_region_sbqj_enih  \\\n",
              "112566                           6                          71   \n",
              "112567                          49                          51   \n",
              "112568                          31                          26   \n",
              "112569                          22                          29   \n",
              "112570                          23                          15   \n",
              "\n",
              "       :@computed_region_efsh_h5xi  \n",
              "112566                       24669  \n",
              "112567                       17618  \n",
              "112568                       11610  \n",
              "112569                       10935  \n",
              "112570                       12422  \n",
              "\n",
              "[5 rows x 24 columns]"
            ]
          },
          "execution_count": 21,
          "metadata": {},
          "output_type": "execute_result"
        }
      ],
      "source": [
        "#checking the data last 6 rows.\n",
        "results_df.tail()"
      ]
    },
    {
      "cell_type": "markdown",
      "metadata": {},
      "source": [
        "After getting the data imma clean the sheet to make it easier to use. \n",
        "Lets look at race. "
      ]
    },
    {
      "cell_type": "code",
      "execution_count": 22,
      "metadata": {},
      "outputs": [
        {
          "data": {
            "text/plain": [
              "array(['WHITE', 'BLACK', 'WHITE HISPANIC', 'BLACK HISPANIC', 'UNKNOWN',\n",
              "       'ASIAN / PACIFIC ISLANDER', 'AMERICAN INDIAN/ALASKAN NATIVE'],\n",
              "      dtype=object)"
            ]
          },
          "execution_count": 22,
          "metadata": {},
          "output_type": "execute_result"
        }
      ],
      "source": [
        "#See unique values in Race because their is alot of races\n",
        "results_df[\"perp_race\"].unique()"
      ]
    },
    {
      "cell_type": "code",
      "execution_count": 23,
      "metadata": {},
      "outputs": [],
      "source": [
        "#We notice something strange. White Hispanic and Black Hispanic.\n",
        "#This is a bit wierd so we are going to add them together and make it Hispanic\n",
        "results_df[\"perp_race\"] = results_df['perp_race'].replace(['BLACK HISPANIC', 'WHITE HISPANIC'], ['HISPANIC', 'HISPANIC'])"
      ]
    },
    {
      "cell_type": "code",
      "execution_count": 24,
      "metadata": {},
      "outputs": [
        {
          "data": {
            "text/plain": [
              "array(['WHITE', 'BLACK', 'HISPANIC', 'UNKNOWN',\n",
              "       'ASIAN / PACIFIC ISLANDER', 'AMERICAN INDIAN/ALASKAN NATIVE'],\n",
              "      dtype=object)"
            ]
          },
          "execution_count": 24,
          "metadata": {},
          "output_type": "execute_result"
        }
      ],
      "source": [
        "#Just to check our code worked\n",
        "results_df[\"perp_race\"].unique()"
      ]
    },
    {
      "cell_type": "markdown",
      "metadata": {},
      "source": [
        "\n",
        "Next i will drop the last 5 columns because they do not provide anything usefull in the analysis of our data. \n"
      ]
    },
    {
      "cell_type": "code",
      "execution_count": 25,
      "metadata": {},
      "outputs": [],
      "source": [
        "#Drop the following colmumns\n",
        "results_df = results_df.drop(columns=[':@computed_region_f5dn_yrer', ':@computed_region_yeji_bk3q', ':@computed_region_92fq_4b7q', ':@computed_region_sbqj_enih',\":@computed_region_efsh_h5xi\" ])"
      ]
    },
    {
      "cell_type": "code",
      "execution_count": 26,
      "metadata": {},
      "outputs": [
        {
          "data": {
            "text/plain": [
              "arrest_key             0\n",
              "arrest_date            0\n",
              "pd_cd                461\n",
              "pd_desc                0\n",
              "ky_cd                466\n",
              "ofns_desc              0\n",
              "law_code               0\n",
              "law_cat_cd           846\n",
              "arrest_boro            0\n",
              "arrest_precinct        0\n",
              "jurisdiction_code      0\n",
              "age_group              0\n",
              "perp_sex               0\n",
              "perp_race              0\n",
              "x_coord_cd             0\n",
              "y_coord_cd             0\n",
              "latitude               0\n",
              "longitude              0\n",
              "geocoded_column        0\n",
              "dtype: int64"
            ]
          },
          "execution_count": 26,
          "metadata": {},
          "output_type": "execute_result"
        }
      ],
      "source": [
        "#Check if their are any null values\n",
        "results_df.isna().sum()"
      ]
    },
    {
      "cell_type": "markdown",
      "metadata": {},
      "source": [
        "Because we have a big sample size of over 110000, I will drop all the null values. We should still have a good amount of data to use and explore. "
      ]
    },
    {
      "cell_type": "code",
      "execution_count": 27,
      "metadata": {},
      "outputs": [],
      "source": [
        "#dropping NA values\n",
        "results_df = results_df.dropna()"
      ]
    },
    {
      "cell_type": "code",
      "execution_count": 28,
      "metadata": {},
      "outputs": [
        {
          "data": {
            "text/plain": [
              "(111259, 19)"
            ]
          },
          "execution_count": 28,
          "metadata": {},
          "output_type": "execute_result"
        }
      ],
      "source": [
        "#Checking the shape of the dataframe. \n",
        "results_df.shape"
      ]
    },
    {
      "cell_type": "code",
      "execution_count": 29,
      "metadata": {},
      "outputs": [
        {
          "data": {
            "text/plain": [
              "arrest_key           0\n",
              "arrest_date          0\n",
              "pd_cd                0\n",
              "pd_desc              0\n",
              "ky_cd                0\n",
              "ofns_desc            0\n",
              "law_code             0\n",
              "law_cat_cd           0\n",
              "arrest_boro          0\n",
              "arrest_precinct      0\n",
              "jurisdiction_code    0\n",
              "age_group            0\n",
              "perp_sex             0\n",
              "perp_race            0\n",
              "x_coord_cd           0\n",
              "y_coord_cd           0\n",
              "latitude             0\n",
              "longitude            0\n",
              "geocoded_column      0\n",
              "dtype: int64"
            ]
          },
          "execution_count": 29,
          "metadata": {},
          "output_type": "execute_result"
        }
      ],
      "source": [
        "results_df.isna().sum()"
      ]
    },
    {
      "cell_type": "markdown",
      "metadata": {},
      "source": [
        "As you can see, after cleaning the data we still have over 110000 rows of data. I will now save the dataframe into a csv for future analysis."
      ]
    },
    {
      "cell_type": "code",
      "execution_count": 30,
      "metadata": {
        "id": "4LUemq2wOJpK"
      },
      "outputs": [],
      "source": [
        "#Dataframe to CSV\n",
        "csv_file = results_df.to_csv('NYPD_Arrest_Data_1.csv', index=False)\n"
      ]
    },
    {
      "cell_type": "markdown",
      "metadata": {},
      "source": [
        "## Analyze\n",
        "For my next step of the project I will analyze the data we have. I will use Tableau as a data visualization tool. "
      ]
    }
  ],
  "metadata": {
    "colab": {
      "provenance": []
    },
    "kernelspec": {
      "display_name": "Python 3",
      "language": "python",
      "name": "python3"
    },
    "language_info": {
      "codemirror_mode": {
        "name": "ipython",
        "version": 3
      },
      "file_extension": ".py",
      "mimetype": "text/x-python",
      "name": "python",
      "nbconvert_exporter": "python",
      "pygments_lexer": "ipython3",
      "version": "3.10.2"
    },
    "vscode": {
      "interpreter": {
        "hash": "539c6590212209f0b34b7b7870917131eb72776e0ae41e41378aef3ea796ac75"
      }
    }
  },
  "nbformat": 4,
  "nbformat_minor": 0
}
