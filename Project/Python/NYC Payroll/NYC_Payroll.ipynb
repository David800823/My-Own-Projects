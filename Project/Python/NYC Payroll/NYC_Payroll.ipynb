{
 "cells": [
  {
   "attachments": {},
   "cell_type": "markdown",
   "metadata": {},
   "source": [
    "# Data Analysis On NYC Payroll\n",
    "\n",
    "## Problem\n",
    "1) My manager(pretend) wants to know the total payroll number for 2022.\n",
    "2) Which borough has the highest payroll?\n",
    "\n",
    "## Data\n",
    "The following data is from the NYC Open Data. \n",
    "\n",
    "In this analysis we will do a deep dive in the income level of the CityWide Payroll.\n",
    "\n",
    "Link: https://data.cityofnewyork.us/City-Government/Citywide-Payroll-Data-Fiscal-Year-/k397-673e\n",
    "\n",
    "Since the data is open sourced and public, we can assume there is no bias in our data. \n",
    "\n",
    "## Process\n",
    "We will use an API to get the data we need to analyze. \n"
   ]
  },
  {
   "attachments": {},
   "cell_type": "markdown",
   "metadata": {},
   "source": [
    "I used a API given by the NYC Open Data to load the data in."
   ]
  },
  {
   "cell_type": "code",
   "execution_count": 19,
   "metadata": {},
   "outputs": [
    {
     "name": "stderr",
     "output_type": "stream",
     "text": [
      "WARNING:root:Requests made without an app_token will be subject to strict throttling limits.\n"
     ]
    }
   ],
   "source": [
    "#!/usr/bin/env python\n",
    "\n",
    "# make sure to install these packages before running:\n",
    "# pip install pandas\n",
    "# pip install sodapy\n",
    "\n",
    "import pandas as pd\n",
    "import numpy as np\n",
    "from sodapy import Socrata\n",
    "\n",
    "# Unauthenticated client only works with public data sets. Note 'None'\n",
    "# in place of application token, and no username or password:\n",
    "client = Socrata(\"data.cityofnewyork.us\", None)\n",
    "\n",
    "# Example authenticated client (needed for non-public datasets):\n",
    "# client = Socrata(data.cityofnewyork.us,\n",
    "#                  MyAppToken,\n",
    "#                  username=\"user@example.com\",\n",
    "#                  password=\"AFakePassword\")\n",
    "\n",
    "# First 1,000,000 results, returned as JSON from API / converted to Python list of\n",
    "# dictionaries by sodapy.\n",
    "results = client.get(\"k397-673e\", limit=1000000)\n",
    "\n",
    "# Convert to pandas DataFrame\n",
    "results_df = pd.DataFrame.from_records(results)"
   ]
  },
  {
   "attachments": {},
   "cell_type": "markdown",
   "metadata": {},
   "source": [
    "Data Cleaning"
   ]
  },
  {
   "cell_type": "code",
   "execution_count": 20,
   "metadata": {},
   "outputs": [
    {
     "data": {
      "text/plain": [
       "['fiscal_year',\n",
       " 'payroll_number',\n",
       " 'agency_name',\n",
       " 'last_name',\n",
       " 'first_name',\n",
       " 'agency_start_date',\n",
       " 'work_location_borough',\n",
       " 'title_description',\n",
       " 'leave_status_as_of_july_31',\n",
       " 'base_salary',\n",
       " 'pay_basis',\n",
       " 'regular_hours',\n",
       " 'regular_gross_paid',\n",
       " 'ot_hours',\n",
       " 'total_ot_paid',\n",
       " 'total_other_pay',\n",
       " 'mid_init']"
      ]
     },
     "execution_count": 20,
     "metadata": {},
     "output_type": "execute_result"
    }
   ],
   "source": [
    "#I listed all the columns in the dataframe\n",
    "list(results_df.columns)"
   ]
  },
  {
   "cell_type": "code",
   "execution_count": 21,
   "metadata": {},
   "outputs": [
    {
     "data": {
      "text/html": [
       "<div>\n",
       "<style scoped>\n",
       "    .dataframe tbody tr th:only-of-type {\n",
       "        vertical-align: middle;\n",
       "    }\n",
       "\n",
       "    .dataframe tbody tr th {\n",
       "        vertical-align: top;\n",
       "    }\n",
       "\n",
       "    .dataframe thead th {\n",
       "        text-align: right;\n",
       "    }\n",
       "</style>\n",
       "<table border=\"1\" class=\"dataframe\">\n",
       "  <thead>\n",
       "    <tr style=\"text-align: right;\">\n",
       "      <th></th>\n",
       "      <th>fiscal_year</th>\n",
       "      <th>payroll_number</th>\n",
       "      <th>agency_name</th>\n",
       "      <th>last_name</th>\n",
       "      <th>first_name</th>\n",
       "      <th>agency_start_date</th>\n",
       "      <th>work_location_borough</th>\n",
       "      <th>title_description</th>\n",
       "      <th>leave_status_as_of_july_31</th>\n",
       "      <th>base_salary</th>\n",
       "      <th>pay_basis</th>\n",
       "      <th>regular_hours</th>\n",
       "      <th>regular_gross_paid</th>\n",
       "      <th>ot_hours</th>\n",
       "      <th>total_ot_paid</th>\n",
       "      <th>total_other_pay</th>\n",
       "      <th>mid_init</th>\n",
       "    </tr>\n",
       "  </thead>\n",
       "  <tbody>\n",
       "    <tr>\n",
       "      <th>0</th>\n",
       "      <td>2022</td>\n",
       "      <td>67</td>\n",
       "      <td>ADMIN FOR CHILDREN'S SVCS</td>\n",
       "      <td>ZWEIGENHAFT</td>\n",
       "      <td>BLIMI</td>\n",
       "      <td>2021-05-10T00:00:00.000</td>\n",
       "      <td>BROOKLYN</td>\n",
       "      <td>AGENCY ATTORNEY INTERNE</td>\n",
       "      <td>ON LEAVE</td>\n",
       "      <td>71757.00</td>\n",
       "      <td>per Annum</td>\n",
       "      <td>994.00</td>\n",
       "      <td>38807.66</td>\n",
       "      <td>0.00</td>\n",
       "      <td>0.00</td>\n",
       "      <td>49.50</td>\n",
       "      <td>NaN</td>\n",
       "    </tr>\n",
       "    <tr>\n",
       "      <th>1</th>\n",
       "      <td>2022</td>\n",
       "      <td>67</td>\n",
       "      <td>ADMIN FOR CHILDREN'S SVCS</td>\n",
       "      <td>AARON</td>\n",
       "      <td>TERESA</td>\n",
       "      <td>2016-03-21T00:00:00.000</td>\n",
       "      <td>BRONX</td>\n",
       "      <td>CHILD PROTECTIVE SPECIALIST</td>\n",
       "      <td>ACTIVE</td>\n",
       "      <td>60327.00</td>\n",
       "      <td>per Annum</td>\n",
       "      <td>1820.00</td>\n",
       "      <td>60161.66</td>\n",
       "      <td>590.00</td>\n",
       "      <td>27527.82</td>\n",
       "      <td>5600.65</td>\n",
       "      <td>NaN</td>\n",
       "    </tr>\n",
       "    <tr>\n",
       "      <th>2</th>\n",
       "      <td>2022</td>\n",
       "      <td>67</td>\n",
       "      <td>ADMIN FOR CHILDREN'S SVCS</td>\n",
       "      <td>AARONS</td>\n",
       "      <td>CAMELIA</td>\n",
       "      <td>2016-08-08T00:00:00.000</td>\n",
       "      <td>BROOKLYN</td>\n",
       "      <td>CHILD PROTECTIVE SPECIALIST</td>\n",
       "      <td>ACTIVE</td>\n",
       "      <td>60327.00</td>\n",
       "      <td>per Annum</td>\n",
       "      <td>1820.00</td>\n",
       "      <td>60161.66</td>\n",
       "      <td>138.50</td>\n",
       "      <td>5145.70</td>\n",
       "      <td>3008.34</td>\n",
       "      <td>M</td>\n",
       "    </tr>\n",
       "    <tr>\n",
       "      <th>3</th>\n",
       "      <td>2022</td>\n",
       "      <td>67</td>\n",
       "      <td>ADMIN FOR CHILDREN'S SVCS</td>\n",
       "      <td>ABDIN</td>\n",
       "      <td>MOHAMMED</td>\n",
       "      <td>2022-05-23T00:00:00.000</td>\n",
       "      <td>QUEENS</td>\n",
       "      <td>CHILD PROTECTIVE SPECIALIST</td>\n",
       "      <td>ACTIVE</td>\n",
       "      <td>50757.00</td>\n",
       "      <td>per Annum</td>\n",
       "      <td>-70.00</td>\n",
       "      <td>132.69</td>\n",
       "      <td>0.00</td>\n",
       "      <td>0.00</td>\n",
       "      <td>-152.53</td>\n",
       "      <td>N</td>\n",
       "    </tr>\n",
       "    <tr>\n",
       "      <th>4</th>\n",
       "      <td>2022</td>\n",
       "      <td>67</td>\n",
       "      <td>ADMIN FOR CHILDREN'S SVCS</td>\n",
       "      <td>ABDUL-AZIZ</td>\n",
       "      <td>SALIH</td>\n",
       "      <td>2021-04-26T00:00:00.000</td>\n",
       "      <td>QUEENS</td>\n",
       "      <td>YOUTH DEVELOPMENT SPECIALIST</td>\n",
       "      <td>CEASED</td>\n",
       "      <td>45759.00</td>\n",
       "      <td>per Annum</td>\n",
       "      <td>0.00</td>\n",
       "      <td>-2833.27</td>\n",
       "      <td>0.00</td>\n",
       "      <td>0.00</td>\n",
       "      <td>0.00</td>\n",
       "      <td>A</td>\n",
       "    </tr>\n",
       "  </tbody>\n",
       "</table>\n",
       "</div>"
      ],
      "text/plain": [
       "  fiscal_year payroll_number                agency_name    last_name  \\\n",
       "0        2022             67  ADMIN FOR CHILDREN'S SVCS  ZWEIGENHAFT   \n",
       "1        2022             67  ADMIN FOR CHILDREN'S SVCS        AARON   \n",
       "2        2022             67  ADMIN FOR CHILDREN'S SVCS       AARONS   \n",
       "3        2022             67  ADMIN FOR CHILDREN'S SVCS        ABDIN   \n",
       "4        2022             67  ADMIN FOR CHILDREN'S SVCS   ABDUL-AZIZ   \n",
       "\n",
       "  first_name        agency_start_date work_location_borough  \\\n",
       "0      BLIMI  2021-05-10T00:00:00.000              BROOKLYN   \n",
       "1     TERESA  2016-03-21T00:00:00.000                 BRONX   \n",
       "2    CAMELIA  2016-08-08T00:00:00.000              BROOKLYN   \n",
       "3   MOHAMMED  2022-05-23T00:00:00.000                QUEENS   \n",
       "4      SALIH  2021-04-26T00:00:00.000                QUEENS   \n",
       "\n",
       "              title_description leave_status_as_of_july_31 base_salary  \\\n",
       "0       AGENCY ATTORNEY INTERNE                   ON LEAVE    71757.00   \n",
       "1   CHILD PROTECTIVE SPECIALIST                     ACTIVE    60327.00   \n",
       "2   CHILD PROTECTIVE SPECIALIST                     ACTIVE    60327.00   \n",
       "3   CHILD PROTECTIVE SPECIALIST                     ACTIVE    50757.00   \n",
       "4  YOUTH DEVELOPMENT SPECIALIST                     CEASED    45759.00   \n",
       "\n",
       "   pay_basis regular_hours regular_gross_paid ot_hours total_ot_paid  \\\n",
       "0  per Annum        994.00           38807.66     0.00          0.00   \n",
       "1  per Annum       1820.00           60161.66   590.00      27527.82   \n",
       "2  per Annum       1820.00           60161.66   138.50       5145.70   \n",
       "3  per Annum        -70.00             132.69     0.00          0.00   \n",
       "4  per Annum          0.00           -2833.27     0.00          0.00   \n",
       "\n",
       "  total_other_pay mid_init  \n",
       "0           49.50      NaN  \n",
       "1         5600.65      NaN  \n",
       "2         3008.34        M  \n",
       "3         -152.53        N  \n",
       "4            0.00        A  "
      ]
     },
     "execution_count": 21,
     "metadata": {},
     "output_type": "execute_result"
    }
   ],
   "source": [
    "#Use the head function to look at the first 5 rows\n",
    "results_df.head()"
   ]
  },
  {
   "cell_type": "code",
   "execution_count": 22,
   "metadata": {},
   "outputs": [
    {
     "name": "stdout",
     "output_type": "stream",
     "text": [
      "fiscal_year                        0\n",
      "payroll_number                328705\n",
      "agency_name                        0\n",
      "last_name                        345\n",
      "first_name                       347\n",
      "agency_start_date                 63\n",
      "work_location_borough          96046\n",
      "title_description                 20\n",
      "leave_status_as_of_july_31         0\n",
      "base_salary                        0\n",
      "pay_basis                          0\n",
      "regular_hours                      0\n",
      "regular_gross_paid                 0\n",
      "ot_hours                           0\n",
      "total_ot_paid                      0\n",
      "total_other_pay                    0\n",
      "mid_init                      497387\n",
      "dtype: int64\n"
     ]
    }
   ],
   "source": [
    "#Looked to see if there are any missing values in the Dataframe\n",
    "missing_values_count = results_df.isnull().sum()\n",
    "print(missing_values_count)"
   ]
  },
  {
   "cell_type": "code",
   "execution_count": 23,
   "metadata": {},
   "outputs": [
    {
     "data": {
      "text/plain": [
       "(1000000, 17)"
      ]
     },
     "execution_count": 23,
     "metadata": {},
     "output_type": "execute_result"
    }
   ],
   "source": [
    "#Show the Shape of the DataFrame\n",
    "results_df.shape"
   ]
  },
  {
   "cell_type": "code",
   "execution_count": 24,
   "metadata": {},
   "outputs": [],
   "source": [
    "#After looking at the columns and the null values, I noticed the column \"mid_init\" has alot of null values.\n",
    "#This makes sense since it is common to not have a middle name.\n",
    "#So i dropped the column\n",
    "results_df = results_df.drop(columns = [\"mid_init\"])"
   ]
  },
  {
   "cell_type": "code",
   "execution_count": 25,
   "metadata": {},
   "outputs": [
    {
     "data": {
      "text/plain": [
       "(1000000, 16)"
      ]
     },
     "execution_count": 25,
     "metadata": {},
     "output_type": "execute_result"
    }
   ],
   "source": [
    "#Resulting shape of the DataFrame\n",
    "results_df.shape"
   ]
  },
  {
   "cell_type": "code",
   "execution_count": 26,
   "metadata": {},
   "outputs": [
    {
     "data": {
      "text/plain": [
       "fiscal_year                        0\n",
       "payroll_number                328705\n",
       "agency_name                        0\n",
       "last_name                        345\n",
       "first_name                       347\n",
       "agency_start_date                 63\n",
       "work_location_borough          96046\n",
       "title_description                 20\n",
       "leave_status_as_of_july_31         0\n",
       "base_salary                        0\n",
       "pay_basis                          0\n",
       "regular_hours                      0\n",
       "regular_gross_paid                 0\n",
       "ot_hours                           0\n",
       "total_ot_paid                      0\n",
       "total_other_pay                    0\n",
       "dtype: int64"
      ]
     },
     "execution_count": 26,
     "metadata": {},
     "output_type": "execute_result"
    }
   ],
   "source": [
    "#Looked for more null values\n",
    "results_df.isnull().sum()"
   ]
  },
  {
   "cell_type": "code",
   "execution_count": 27,
   "metadata": {},
   "outputs": [],
   "source": [
    "#I dropped the remaining null values\n",
    "results_df = results_df.dropna()"
   ]
  },
  {
   "cell_type": "code",
   "execution_count": 28,
   "metadata": {},
   "outputs": [
    {
     "data": {
      "text/plain": [
       "(574892, 16)"
      ]
     },
     "execution_count": 28,
     "metadata": {},
     "output_type": "execute_result"
    }
   ],
   "source": [
    "#Again the shape of the dataframe\n",
    "#The sample got smaller but there is still over 500 thousand records\n",
    "results_df.shape"
   ]
  },
  {
   "cell_type": "code",
   "execution_count": 29,
   "metadata": {},
   "outputs": [
    {
     "data": {
      "text/plain": [
       "fiscal_year                   0\n",
       "payroll_number                0\n",
       "agency_name                   0\n",
       "last_name                     0\n",
       "first_name                    0\n",
       "agency_start_date             0\n",
       "work_location_borough         0\n",
       "title_description             0\n",
       "leave_status_as_of_july_31    0\n",
       "base_salary                   0\n",
       "pay_basis                     0\n",
       "regular_hours                 0\n",
       "regular_gross_paid            0\n",
       "ot_hours                      0\n",
       "total_ot_paid                 0\n",
       "total_other_pay               0\n",
       "dtype: int64"
      ]
     },
     "execution_count": 29,
     "metadata": {},
     "output_type": "execute_result"
    }
   ],
   "source": [
    "#Last check for nulls\n",
    "results_df.isnull().sum()"
   ]
  },
  {
   "cell_type": "code",
   "execution_count": 30,
   "metadata": {},
   "outputs": [
    {
     "data": {
      "text/plain": [
       "fiscal_year                   object\n",
       "payroll_number                object\n",
       "agency_name                   object\n",
       "last_name                     object\n",
       "first_name                    object\n",
       "agency_start_date             object\n",
       "work_location_borough         object\n",
       "title_description             object\n",
       "leave_status_as_of_july_31    object\n",
       "base_salary                   object\n",
       "pay_basis                     object\n",
       "regular_hours                 object\n",
       "regular_gross_paid            object\n",
       "ot_hours                      object\n",
       "total_ot_paid                 object\n",
       "total_other_pay               object\n",
       "dtype: object"
      ]
     },
     "execution_count": 30,
     "metadata": {},
     "output_type": "execute_result"
    }
   ],
   "source": [
    "#Checking our Datatypes\n",
    "results_df.dtypes"
   ]
  },
  {
   "cell_type": "code",
   "execution_count": 31,
   "metadata": {},
   "outputs": [],
   "source": [
    "#Our datatypes are not correct. \n",
    "#They are all srting values.\n",
    "#Lets correct some using the website as a guide.\n",
    "data_types_dict = {\"fiscal_year\": int,\n",
    "                   \"payroll_number\": int,\n",
    "                   \"agency_start_date\": \"datetime64[ns]\",\n",
    "                   \"base_salary\": float,\n",
    "                   \"regular_hours\": float,\n",
    "                   \"regular_gross_paid\": float,\n",
    "                   \"ot_hours\": float,\n",
    "                   \"total_ot_paid\": float,\n",
    "                   \"total_other_pay\": float}\n",
    "\n",
    "results_df = results_df.astype(data_types_dict)"
   ]
  },
  {
   "cell_type": "code",
   "execution_count": null,
   "metadata": {},
   "outputs": [],
   "source": [
    "#Turn into csv file\n",
    "final_df.to_csv('NYC_Payroll.csv', index=False)"
   ]
  },
  {
   "cell_type": "markdown",
   "metadata": {},
   "source": [
    "# Analyze\n",
    "Here we will analyze our data using seaborn and other libraries in python. "
   ]
  },
  {
   "cell_type": "code",
   "execution_count": 35,
   "metadata": {},
   "outputs": [],
   "source": [
    "#Data Visualization\n",
    "\n",
    "#Import Matplotlib\n",
    "import matplotlib.pyplot as plt\n",
    "\n",
    "#import Seaborn\n",
    "import seaborn as sns"
   ]
  },
  {
   "cell_type": "code",
   "execution_count": 37,
   "metadata": {},
   "outputs": [
    {
     "data": {
      "text/plain": [
       "[Text(0.5, 1.0, 'Base Salary for Each Work Location')]"
      ]
     },
     "execution_count": 37,
     "metadata": {},
     "output_type": "execute_result"
    },
    {
     "data": {
      "image/png": "[encoded data removed]",
      "text/plain": [
       "<Figure size 1500x500 with 1 Axes>"
      ]
     },
     "metadata": {},
     "output_type": "display_data"
    }
   ],
   "source": [
    "sns.set(rc={'figure.figsize':(15,5)})\n",
    "\n",
    "sns.barplot(data = final_df, x = \"work_location_borough\", y = \"base_salary\").set(title = \"Base Salary for Each Work Location\")"
   ]
  },
  {
   "cell_type": "code",
   "execution_count": 39,
   "metadata": {},
   "outputs": [
    {
     "name": "stdout",
     "output_type": "stream",
     "text": [
      "['BROOKLYN' 'BRONX' 'QUEENS' 'MANHATTAN' 'RICHMOND' 'ALBANY' 'ORANGE'\n",
      " 'NASSAU' 'SULLIVAN' 'DELAWARE' 'WESTCHESTER']\n"
     ]
    }
   ],
   "source": [
    "#I want to find all the unique values in the borough\n",
    "print(results_df[\"work_location_borough\"].unique())"
   ]
  },
  {
   "cell_type": "markdown",
   "metadata": {},
   "source": [
    "Since I only want to focus on Brooklyn, Bronx, Queens, Manhattan and richmond(staten island).\n",
    "I will drop all rows excluding NYC"
   ]
  },
  {
   "cell_type": "code",
   "execution_count": 78,
   "metadata": {},
   "outputs": [
    {
     "ename": "AttributeError",
     "evalue": "'NoneType' object has no attribute 'rows'",
     "output_type": "error",
     "traceback": [
      "\u001b[1;31m---------------------------------------------------------------------------\u001b[0m",
      "\u001b[1;31mAttributeError\u001b[0m                            Traceback (most recent call last)",
      "Cell \u001b[1;32mIn[78], line 1\u001b[0m\n\u001b[1;32m----> 1\u001b[0m \u001b[39mfor\u001b[39;00m row \u001b[39min\u001b[39;00m results_df\u001b[39m.\u001b[39;49mrows:\n\u001b[0;32m      2\u001b[0m     \u001b[39mif\u001b[39;00m results_df[\u001b[39m\"\u001b[39m\u001b[39mwork_location_borough\u001b[39m\u001b[39m\"\u001b[39m] \u001b[39m!=\u001b[39m \u001b[39m\"\u001b[39m\u001b[39mBrooklyn\u001b[39m\u001b[39m\"\u001b[39m:\n\u001b[0;32m      3\u001b[0m         drop\u001b[39m.\u001b[39mrow\n",
      "\u001b[1;31mAttributeError\u001b[0m: 'NoneType' object has no attribute 'rows'"
     ]
    }
   ],
   "source": [
    "for row in results_df.rows:\n",
    "    if results_df[\"work_location_borough\"] != \"Brooklyn\":\n",
    "        drop.row"
   ]
  }
 ],
 "metadata": {
  "kernelspec": {
   "display_name": "Python 3",
   "language": "python",
   "name": "python3"
  },
  "language_info": {
   "codemirror_mode": {
    "name": "ipython",
    "version": 3
   },
   "file_extension": ".py",
   "mimetype": "text/x-python",
   "name": "python",
   "nbconvert_exporter": "python",
   "pygments_lexer": "ipython3",
   "version": "3.10.2"
  },
  "orig_nbformat": 4
 },
 "nbformat": 4,
 "nbformat_minor": 2
}
