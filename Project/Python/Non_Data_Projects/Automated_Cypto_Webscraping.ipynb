{
 "cells": [
  {
   "cell_type": "markdown",
   "metadata": {},
   "source": [
    "<h1>Automated Crypto Maker</h1>"
   ]
  },
  {
   "cell_type": "code",
   "execution_count": 337,
   "metadata": {},
   "outputs": [],
   "source": [
    "from bs4 import BeautifulSoup as bs\n",
    "import requests as r\n",
    "import pandas as pd\n",
    "from datetime import datetime\n",
    "import os\n",
    "import time"
   ]
  },
  {
   "cell_type": "code",
   "execution_count": 338,
   "metadata": {},
   "outputs": [],
   "source": [
    "def automated_crypto_pull():        \n",
    "        url = \"https://coinmarketcap.com/currencies/bitcoin/\"\n",
    "\n",
    "        page = r.get(url)\n",
    "        soup = bs(page.text, \"html\")\n",
    "\n",
    "        Name = soup.find(\"span\", class_ = 'sc-65e7f566-0 lsTl').text\n",
    "        crypto_name = Name[0:7]\n",
    "\n",
    "        crypto_price = soup.find(\"span\", class_ = 'sc-65e7f566-0 clvjgF base-text').text\n",
    "        final_price = crypto_price.replace('$',\"\")\n",
    "\n",
    "        dt = datetime.now()\n",
    "\n",
    "        dict = {\"Cyrpto Name\": crypto_name,\n",
    "                \"Price\": final_price, \n",
    "                \"TimeStamp\": dt }\n",
    "\n",
    "        df = pd.DataFrame(dict, index = [0])\n",
    "\n",
    "        if os.path.exists(r\"C:\\Users\\DavidSierraPerez\\Desktop\\Bitcoin_Price.csv\"):\n",
    "                df.to_csv(r\"C:\\Users\\DavidSierraPerez\\Desktop\\Bitcoin_Price.csv\", mode = \"a\", header = False, index = False)"
   ]
  },
  {
   "cell_type": "code",
   "execution_count": 339,
   "metadata": {},
   "outputs": [
    {
     "ename": "KeyboardInterrupt",
     "evalue": "",
     "output_type": "error",
     "traceback": [
      "\u001b[1;31m---------------------------------------------------------------------------\u001b[0m",
      "\u001b[1;31mKeyboardInterrupt\u001b[0m                         Traceback (most recent call last)",
      "Cell \u001b[1;32mIn[339], line 3\u001b[0m\n\u001b[0;32m      1\u001b[0m \u001b[38;5;28;01mwhile\u001b[39;00m \u001b[38;5;28;01mTrue\u001b[39;00m:\n\u001b[0;32m      2\u001b[0m     automated_crypto_pull()\n\u001b[1;32m----> 3\u001b[0m     time\u001b[38;5;241m.\u001b[39msleep(\u001b[38;5;241m10\u001b[39m)\n",
      "\u001b[1;31mKeyboardInterrupt\u001b[0m: "
     ]
    }
   ],
   "source": [
    "while True:\n",
    "    automated_crypto_pull()\n",
    "    time.sleep(10)"
   ]
  },
  {
   "cell_type": "code",
   "execution_count": null,
   "metadata": {},
   "outputs": [],
   "source": []
  }
 ],
 "metadata": {
  "kernelspec": {
   "display_name": "base",
   "language": "python",
   "name": "python3"
  },
  "language_info": {
   "codemirror_mode": {
    "name": "ipython",
    "version": 3
   },
   "file_extension": ".py",
   "mimetype": "text/x-python",
   "name": "python",
   "nbconvert_exporter": "python",
   "pygments_lexer": "ipython3",
   "version": "3.12.4"
  }
 },
 "nbformat": 4,
 "nbformat_minor": 2
}
