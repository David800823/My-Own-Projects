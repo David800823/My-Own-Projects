{
 "cells": [
  {
   "cell_type": "code",
   "execution_count": 44,
   "metadata": {},
   "outputs": [
    {
     "name": "stdout",
     "output_type": "stream",
     "text": [
      "10 / 6 = 1.6667\n"
     ]
    }
   ],
   "source": [
    "# We are going to make a calculator that adds, subtracts, multiplies and divides by typing in A,S,M,D\n",
    "\n",
    "# creating a funciton called calculator\n",
    "# We can only add, subtract, multiply and divide\n",
    "def calculator(num1,num2):\n",
    "    if user_response == \"A\":\n",
    "        addition = num1 + num2\n",
    "        print(f\"{num1} + {num2} = {addition}\")\n",
    "    elif user_response == \"S\":\n",
    "        subtraction = num1 - num2\n",
    "        print(f\"{num1} - {num2} = {subtraction}\")\n",
    "    elif user_response == \"M\":\n",
    "        multiply = num1 * num2\n",
    "        print(f\"{num1} * {num2} = {multiply}\")\n",
    "    elif user_response == \"D\":\n",
    "        divide = round(num1 / num2,4)\n",
    "        print(f\"{num1} / {num2} = {divide}\")\n",
    "\n",
    "# Creating a list to match values\n",
    "list_1 = [\"A\", \"S\", \"M\", \"D\"]\n",
    "\n",
    "# User response\n",
    "user_response = input(\"Please type can add, subtract, multiply, or divide. Please type A,S,M,D for each: \").upper()\n",
    "\n",
    "# Creating a for loop until a response is in the name\n",
    "while user_response not in(list_1):\n",
    "    user_response = input(\"Please enter A, S, M, or D)\").upper()\n",
    "else:\n",
    "    num1 = int(input(\"Enter first number: \"))\n",
    "    num2 = int(input(\"Enter second number: \"))\n",
    "\n",
    "\n",
    "# Calling calculator function\n",
    "calculator(num1,num2)\n"
   ]
  },
  {
   "cell_type": "code",
   "execution_count": null,
   "metadata": {},
   "outputs": [],
   "source": []
  }
 ],
 "metadata": {
  "kernelspec": {
   "display_name": "Python 3",
   "language": "python",
   "name": "python3"
  },
  "language_info": {
   "codemirror_mode": {
    "name": "ipython",
    "version": 3
   },
   "file_extension": ".py",
   "mimetype": "text/x-python",
   "name": "python",
   "nbconvert_exporter": "python",
   "pygments_lexer": "ipython3",
   "version": "3.10.2"
  }
 },
 "nbformat": 4,
 "nbformat_minor": 2
}
