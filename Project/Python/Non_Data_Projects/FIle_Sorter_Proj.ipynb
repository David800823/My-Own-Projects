{
 "cells": [
  {
   "cell_type": "code",
   "execution_count": 30,
   "metadata": {},
   "outputs": [],
   "source": [
    "# File Organizaer\n",
    "\n",
    "# import libraries\n",
    "\n",
    "# Library for files\n",
    "import os\n",
    "\n",
    "# library to move and copy files\n",
    "import shutil"
   ]
  },
  {
   "cell_type": "code",
   "execution_count": 31,
   "metadata": {},
   "outputs": [],
   "source": [
    "# Path of folders\n",
    "path = r'C:\\Users\\Sierr\\Desktop\\Python Folder\\\\'"
   ]
  },
  {
   "cell_type": "code",
   "execution_count": 32,
   "metadata": {},
   "outputs": [],
   "source": [
    "#os.makedirs(path + new_folder_name)\n",
    "folder_names = [\"CSV Files\", \"Text Files\", \"Image Files\"]\n",
    "\n",
    "# This for loop will see if we have the different types of folders in our list\n",
    "for folder in folder_names:\n",
    "    # if not create the folder\n",
    "    if not os.path.exists(path + folder):\n",
    "        os.makedirs(path + folder)\n"
   ]
  },
  {
   "cell_type": "code",
   "execution_count": 33,
   "metadata": {},
   "outputs": [],
   "source": [
    "file_list = os.listdir(path)"
   ]
  },
  {
   "cell_type": "code",
   "execution_count": 34,
   "metadata": {},
   "outputs": [],
   "source": [
    "for files in file_list:\n",
    "    if \".csv\" in files and not os.path.exists(path + 'CSV Files\\\\' + files):\n",
    "        shutil.move(path + files, path + 'CSV Files\\\\' + files )\n",
    "    elif \".txt\" in files and not os.path.exists(path + 'Text Files\\\\' + files):\n",
    "        shutil.move(path + files, path + 'Text Files\\\\' + files )\n",
    "    elif \".png\" in files and not os.path.exists(path + 'Image Files\\\\' + files):\n",
    "        shutil.move(path + files, path + 'Image Files\\\\' + files )"
   ]
  }
 ],
 "metadata": {
  "kernelspec": {
   "display_name": "Python 3",
   "language": "python",
   "name": "python3"
  },
  "language_info": {
   "codemirror_mode": {
    "name": "ipython",
    "version": 3
   },
   "file_extension": ".py",
   "mimetype": "text/x-python",
   "name": "python",
   "nbconvert_exporter": "python",
   "pygments_lexer": "ipython3",
   "version": "3.10.2"
  }
 },
 "nbformat": 4,
 "nbformat_minor": 2
}
