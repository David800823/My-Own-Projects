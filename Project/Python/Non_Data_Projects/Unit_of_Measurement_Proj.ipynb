{
 "cells": [
  {
   "cell_type": "markdown",
   "metadata": {},
   "source": [
    "Project: Unit of Measurement Converter <br>\n",
    "Goal: Create a converter <br>\n",
    "<br>\n",
    "By: David Sierra Perez"
   ]
  },
  {
   "cell_type": "code",
   "execution_count": 19,
   "metadata": {},
   "outputs": [],
   "source": [
    "# Creating converters\n",
    "\n",
    "convert_from = input(\"Enter starting Unit of Measurement(inches, feet, yard): \")\n",
    "\n",
    "convert_to = input(\"What unit of measurement do you want to convert (inches, feet, yard)\")\n",
    "\n",
    "number_of_inches = input(\"Enter number of inches\")\n",
    "\n",
    "number_of_feet = input(\"Enter starting measure in feet\")\n",
    "\n",
    "number_of_yards = input(\"Enter starting measure in yards\")"
   ]
  },
  {
   "cell_type": "code",
   "execution_count": 25,
   "metadata": {},
   "outputs": [
    {
     "name": "stdout",
     "output_type": "stream",
     "text": [
      "5 feet is 60 inches\n"
     ]
    }
   ],
   "source": [
    "convert_from = input(\"Enter starting Unit of Measurement(inches, feet, yards): \")\n",
    "convert_to = input(\"What unit of measurement do you want to convert (inches, feet, yards)\")\n",
    "\n",
    "if convert_from.lower() in [\"inches\", \"in\", \"inch\"]:\n",
    "    number_of_inches = int(input(\"Enter number of inches\"))\n",
    "    if convert_to.lower() in [\"feet\", \"feets\", \"ft\"]:\n",
    "        ct_inches_feet = round(number_of_inches/12,1)\n",
    "        print(str(number_of_inches) + \" inches is \" + str(ct_inches_feet) + \" feet\")\n",
    "    elif convert_to.lower() in [\"yards\", \"yard\", \"yd\"]:\n",
    "        ct_yards_feet = round(number_of_inches/36,1)\n",
    "        print(str(number_of_inches) + \" inches is \" + str(ct_yards_feet) + \" yards\")\n",
    "    else:\n",
    "        print(str(number_of_inches) + \" inches is \" + str(number_of_inches) + \" inches\")\n",
    "\n",
    "elif convert_from.lower() in [\"feet\", \"feets\", \"ft\"]:\n",
    "    number_of_feet = int(input(\"Enter number of feet\"))\n",
    "    if convert_to.lower() in [\"inches\", \"in\", \"inch\"]:\n",
    "        ct_feet_inches = round(number_of_feet*12,1)\n",
    "        print(str(number_of_feet) + \" feet is \" + str(ct_feet_inches) + \" inches\")\n",
    "    elif convert_to.lower() in [\"yards\", \"yard\", \"yd\"]:\n",
    "        ct_feet_yards = round(number_of_feet/3,1)\n",
    "        print(str(number_of_feet) + \" feet is \" + str(ct_feet_yards) + \" yards\")\n",
    "    else:\n",
    "        print(str(number_of_feet) + \" feet is \" + str(number_of_feet) + \" feet\")\n",
    "\n",
    "elif convert_from.lower() in [\"yards\", \"yard\", \"yd\"]:\n",
    "    number_of_yards = int(input(\"Enter number of yards\"))\n",
    "    if convert_to.lower() in [\"inches\", \"in\", \"inch\"]:\n",
    "        ct_yard_inches = round(number_of_yards*36,1)\n",
    "        print(str(number_of_yards) + \" yard is \" + str(ct_yard_inches) + \" inches\")\n",
    "    elif convert_to.lower() in [\"feet\", \"feets\", \"ft\"]:\n",
    "        ct_yards_feet = round(number_of_yards*3,1)\n",
    "        print(str(number_of_yards) + \" yard is \" + str(ct_yards_feet) + \" feet\")\n",
    "    else:\n",
    "        print(str(number_of_yards) + \" yards is \" + str(number_of_yards) + \" yards\")\n",
    "\n",
    "else:\n",
    "    print(\"Choose a right unit\")\n"
   ]
  },
  {
   "cell_type": "code",
   "execution_count": null,
   "metadata": {},
   "outputs": [],
   "source": []
  },
  {
   "cell_type": "code",
   "execution_count": null,
   "metadata": {},
   "outputs": [],
   "source": []
  }
 ],
 "metadata": {
  "kernelspec": {
   "display_name": "Python 3",
   "language": "python",
   "name": "python3"
  },
  "language_info": {
   "codemirror_mode": {
    "name": "ipython",
    "version": 3
   },
   "file_extension": ".py",
   "mimetype": "text/x-python",
   "name": "python",
   "nbconvert_exporter": "python",
   "pygments_lexer": "ipython3",
   "version": "3.10.2"
  }
 },
 "nbformat": 4,
 "nbformat_minor": 2
}
