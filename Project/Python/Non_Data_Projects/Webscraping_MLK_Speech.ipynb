{
 "cells": [
  {
   "cell_type": "markdown",
   "metadata": {},
   "source": [
    "<h1>Webscraping & Regular Expression</h1>\n",
    "\n",
    "The purpose of this project is to find the word that appears the most in MLk speech. "
   ]
  },
  {
   "cell_type": "code",
   "execution_count": 61,
   "metadata": {},
   "outputs": [],
   "source": [
    "from bs4 import BeautifulSoup\n",
    "import requests\n",
    "import re\n",
    "import pandas as pd"
   ]
  },
  {
   "cell_type": "code",
   "execution_count": 62,
   "metadata": {},
   "outputs": [],
   "source": [
    "url = \"http://analytictech.com/mb021/mlk.htm\"\n",
    "\n",
    "response = requests.get(url)\n",
    "soup = BeautifulSoup(response.content, \"html.parser\")"
   ]
  },
  {
   "cell_type": "code",
   "execution_count": 63,
   "metadata": {},
   "outputs": [],
   "source": [
    "transcript = soup.find_all(\"p\")\n",
    "\n",
    "transcript_list = []\n",
    "\n",
    "for tran in transcript:\n",
    "    p_list = tran.text.split()\n",
    "    transcript_list = transcript_list + p_list"
   ]
  },
  {
   "cell_type": "code",
   "execution_count": 64,
   "metadata": {},
   "outputs": [],
   "source": [
    "clean_list = []\n",
    "\n",
    "for value in transcript_list:\n",
    "    x = re.findall(r\"\\w+\", value)\n",
    "    clean_list.append(x[0].lower())\n"
   ]
  },
  {
   "cell_type": "code",
   "execution_count": 65,
   "metadata": {},
   "outputs": [],
   "source": [
    "dict_list = {}\n",
    "\n",
    "for word in clean_list:\n",
    "    if word not in dict_list.keys():\n",
    "        dict_list[word] = 1\n",
    "    else:\n",
    "        dict_list[word] += 1\n",
    "\n",
    "name_list = list(dict_list.keys())\n",
    "count_list = list(dict_list.values())\n",
    "\n",
    "df = pd.DataFrame()\n",
    "df[\"Name\"] = name_list\n",
    "df[\"Count\"] = count_list"
   ]
  },
  {
   "cell_type": "code",
   "execution_count": 66,
   "metadata": {},
   "outputs": [],
   "source": [
    "df = df.sort_values(by = \"Count\", ascending = False)"
   ]
  },
  {
   "cell_type": "code",
   "execution_count": 67,
   "metadata": {},
   "outputs": [],
   "source": [
    "df.to_csv(\"MLK_Speech.csv\")"
   ]
  },
  {
   "cell_type": "code",
   "execution_count": null,
   "metadata": {},
   "outputs": [],
   "source": []
  }
 ],
 "metadata": {
  "kernelspec": {
   "display_name": "base",
   "language": "python",
   "name": "python3"
  },
  "language_info": {
   "codemirror_mode": {
    "name": "ipython",
    "version": 3
   },
   "file_extension": ".py",
   "mimetype": "text/x-python",
   "name": "python",
   "nbconvert_exporter": "python",
   "pygments_lexer": "ipython3",
   "version": "3.12.4"
  }
 },
 "nbformat": 4,
 "nbformat_minor": 2
}
