{
 "cells": [
  {
   "cell_type": "markdown",
   "metadata": {},
   "source": [
    "<h1>Infaltion Analysis</h1>"
   ]
  },
  {
   "cell_type": "code",
   "execution_count": 517,
   "metadata": {},
   "outputs": [],
   "source": [
    "from fredapi import Fred\n",
    "import pandas as pd\n",
    "import numpy as np\n",
    "import matplotlib.pyplot as plt\n",
    "import seaborn as sns"
   ]
  },
  {
   "cell_type": "code",
   "execution_count": 518,
   "metadata": {},
   "outputs": [],
   "source": [
    "#My key to obtain the api\n",
    "super_secret_key = '9ab9ae52f27e006f9acc6d210f76105a'\n",
    "\n",
    "#Pulling from FRED\n",
    "fred = Fred(api_key = super_secret_key)"
   ]
  },
  {
   "cell_type": "code",
   "execution_count": 519,
   "metadata": {},
   "outputs": [],
   "source": [
    "#List of the Series ID\n",
    "\n",
    "series_data = {\n",
    "\"CPI\" : \"CPIAUCSL\",  #CPI US City Average\n",
    "\"Core_CPI\" : \"CPILFESL\", #Core CPI US City Average\n",
    "\"PCE\" : \"PCE\",\n",
    "\"Core_PCE\" : \"PCEPILFE\",\n",
    "\"Federal_Funds_Rate\" : \"FEDFUNDS\"\n",
    "\n",
    "}\n",
    "\n",
    "for series_name, series_id in series_data.items():\n",
    "  series_data[series_name] = fred.get_series(series_id = series_id, observation_start = '01/01/2006', observation_end = '09/01/2024')"
   ]
  },
  {
   "cell_type": "code",
   "execution_count": 520,
   "metadata": {},
   "outputs": [],
   "source": [
    "df = pd.DataFrame.from_dict(series_data)"
   ]
  },
  {
   "cell_type": "code",
   "execution_count": 521,
   "metadata": {},
   "outputs": [],
   "source": [
    "col_list = ['CPI', 'Core_CPI', 'PCE', 'Core_PCE']\n",
    "\n",
    "for col_name in col_list:\n",
    "    # Monthly Change\n",
    "    col_name_month = col_name + \" Month %\"\n",
    "    df[col_name_month] = round(df[col_name].pct_change() * 100,2)\n",
    "\n",
    "    # 3 Month Change\n",
    "    col_name_3month = col_name + \" 3 Month %\"\n",
    "    df[col_name_3month] = round(df[col_name].pct_change(periods = 3) * 100,2)\n",
    "\n",
    "    # 6 Month Change\n",
    "    col_name_6month = col_name + \" 6 Month %\"\n",
    "    df[col_name_6month] = round(df[col_name].pct_change(periods = 6) * 100,2)\n",
    "\n",
    "    # 9 Month Change\n",
    "    col_name_9month = col_name + \" 9 Month %\"\n",
    "    df[col_name_9month] = round(df[col_name].pct_change(periods = 9) * 100,2)\n",
    "\n",
    "    # 1 Year Change\n",
    "    col_name_year = col_name + \" Year %\"\n",
    "    df[col_name_year] = round(df[col_name].pct_change(periods = 12) * 100,2)"
   ]
  },
  {
   "cell_type": "code",
   "execution_count": 522,
   "metadata": {},
   "outputs": [],
   "source": [
    "# Making Edit\n",
    "df.reset_index(inplace = True)\n",
    "df.rename(columns = {'index': 'Date'}, inplace = True)\n",
    "\n",
    "df['Date'] = pd.to_datetime(df['Date'])\n",
    "\n",
    "df = df[df['Date'] >= '2016-01-01']"
   ]
  },
  {
   "cell_type": "code",
   "execution_count": 523,
   "metadata": {},
   "outputs": [
    {
     "data": {
      "text/plain": [
       "Index(['Date', 'CPI', 'Core_CPI', 'PCE', 'Core_PCE', 'Federal_Funds_Rate',\n",
       "       'CPI Month %', 'CPI 3 Month %', 'CPI 6 Month %', 'CPI 9 Month %',\n",
       "       'CPI Year %', 'Core_CPI Month %', 'Core_CPI 3 Month %',\n",
       "       'Core_CPI 6 Month %', 'Core_CPI 9 Month %', 'Core_CPI Year %',\n",
       "       'PCE Month %', 'PCE 3 Month %', 'PCE 6 Month %', 'PCE 9 Month %',\n",
       "       'PCE Year %', 'Core_PCE Month %', 'Core_PCE 3 Month %',\n",
       "       'Core_PCE 6 Month %', 'Core_PCE 9 Month %', 'Core_PCE Year %'],\n",
       "      dtype='object')"
      ]
     },
     "execution_count": 523,
     "metadata": {},
     "output_type": "execute_result"
    }
   ],
   "source": [
    "df.columns"
   ]
  },
  {
   "cell_type": "code",
   "execution_count": 524,
   "metadata": {},
   "outputs": [],
   "source": [
    "# Creating a list\n",
    "CPI = df[['Date' ,'CPI', 'CPI Month %', 'CPI 3 Month %', 'CPI 6 Month %', 'CPI 9 Month %', 'CPI Year %']]"
   ]
  },
  {
   "cell_type": "code",
   "execution_count": 525,
   "metadata": {},
   "outputs": [
    {
     "data": {
      "text/plain": [
       "Index(['Date', 'CPI', 'CPI Month %', 'CPI 3 Month %', 'CPI 6 Month %',\n",
       "       'CPI 9 Month %', 'CPI Year %'],\n",
       "      dtype='object')"
      ]
     },
     "execution_count": 525,
     "metadata": {},
     "output_type": "execute_result"
    }
   ],
   "source": [
    "CPI.columns"
   ]
  },
  {
   "cell_type": "code",
   "execution_count": 561,
   "metadata": {},
   "outputs": [
    {
     "data": {
      "text/html": [
       "\n",
       "        <iframe\n",
       "            width=\"100%\"\n",
       "            height=\"650\"\n",
       "            src=\"http://127.0.0.1:8050/\"\n",
       "            frameborder=\"0\"\n",
       "            allowfullscreen\n",
       "            \n",
       "        ></iframe>\n",
       "        "
      ],
      "text/plain": [
       "<IPython.lib.display.IFrame at 0x273ddc02300>"
      ]
     },
     "metadata": {},
     "output_type": "display_data"
    }
   ],
   "source": [
    "# import packages\n",
    "from dash import Dash, html, dash_table, dcc, callback, Output, Input\n",
    "import pandas as pd\n",
    "import plotly.express as px\n",
    "\n",
    "# start the app\n",
    "app = Dash()\n",
    "\n",
    "# App layout\n",
    "app.layout = [\n",
    "    # First Line\n",
    "    html.Div(children = 'Inflation Over the Years', style = {'fontSize' : 50, 'color': '#202A44', 'textAlign': 'center'}),\n",
    "    html.Div(children = 'BY: David Sierra Perez' , style = {'fontSize' : 20, 'color': '#202A44', 'textAlign': 'center'}),\n",
    "\n",
    "    # Creates a Line\n",
    "    html.Hr(),\n",
    "\n",
    "    # Add the Data Table\n",
    "    dash_table.DataTable(data = CPI.to_dict('records'), page_size = 5),\n",
    "\n",
    "    # Adding a Graph\n",
    "    dcc.Graph(figure = px.line(CPI, x = 'Date', y = 'CPI Year %')),\n",
    "]\n",
    "\n",
    "# Run the app\n",
    "if __name__ == '__main__':\n",
    "    app.run(debug = True)"
   ]
  },
  {
   "cell_type": "code",
   "execution_count": 580,
   "metadata": {},
   "outputs": [],
   "source": [
    "# Predefind Classes\n",
    "\n",
    "colors = {\n",
    "    'background' : 'white',\n",
    "    'title_text' : '#202A44',\n",
    "    'graph_text' : 'black',\n",
    "    'title_size' : 50,\n",
    "    'other_text' : 20\n",
    "}"
   ]
  },
  {
   "cell_type": "code",
   "execution_count": 583,
   "metadata": {},
   "outputs": [
    {
     "data": {
      "text/html": [
       "\n",
       "        <iframe\n",
       "            width=\"100%\"\n",
       "            height=\"650\"\n",
       "            src=\"http://127.0.0.1:8050/\"\n",
       "            frameborder=\"0\"\n",
       "            allowfullscreen\n",
       "            \n",
       "        ></iframe>\n",
       "        "
      ],
      "text/plain": [
       "<IPython.lib.display.IFrame at 0x273ddacc740>"
      ]
     },
     "metadata": {},
     "output_type": "display_data"
    }
   ],
   "source": [
    "# import packages\n",
    "from dash import Dash, html, dash_table, dcc, callback, Output, Input\n",
    "import pandas as pd\n",
    "import plotly.express as px\n",
    "\n",
    "# start the app\n",
    "app = Dash()\n",
    "\n",
    "# App layout\n",
    "app.layout = [\n",
    "    html.Div([\n",
    "    \n",
    "    # First Line\n",
    "    html.Div(children = 'Inflation Over the Years', style = {'fontSize' : colors['title_size'], 'color': colors['title_text'], 'textAlign': 'center'}),\n",
    "    html.Div(children = 'BY: David Sierra Perez' , style = {'fontSize' : colors['other_text'], 'color': colors['title_text'], 'textAlign': 'center'}),\n",
    "\n",
    "    # Creates a Line\n",
    "    html.Hr(),\n",
    "\n",
    "    # Adding Radio Buttons\n",
    "    html.Div(\n",
    "    dcc.RadioItems(options = ['CPI Month %', 'CPI 3 Month %', 'CPI 6 Month %', 'CPI 9 Month %', 'CPI Year %'], value = 'CPI Year %', id = 'controls-and-radio-item', inline = True),\n",
    "    style = {'textAlign' : 'center'}),\n",
    "\n",
    "    # Adding another Line\n",
    "    html.Hr(),\n",
    "\n",
    "    # Creating a Space\n",
    "    html.Br(),\n",
    "\n",
    "    html.Div([\n",
    "        # Adding the interactive graph figure\n",
    "        dcc.Graph(figure = {}, id = 'controls-and-graph')\n",
    "        ], style = {'width' : \"100%\", 'height': '100%'})\n",
    "    \n",
    "\n",
    "\n",
    "    ])\n",
    "    ]\n",
    "# Add controls to build the interaction\n",
    "@callback(\n",
    "    Output(component_id = 'controls-and-graph', component_property = 'figure'),\n",
    "    Input(component_id = 'controls-and-radio-item', component_property = 'value')\n",
    ")\n",
    "\n",
    "def update_graph(col_chosen):\n",
    "    fig = px.line(CPI, x = 'Date', y = col_chosen, template = 'simple_white')\n",
    "    return fig\n",
    "\n",
    "# Run the app\n",
    "if __name__ == '__main__':\n",
    "    app.run(debug = True)"
   ]
  },
  {
   "cell_type": "code",
   "execution_count": null,
   "metadata": {},
   "outputs": [],
   "source": []
  }
 ],
 "metadata": {
  "kernelspec": {
   "display_name": "base",
   "language": "python",
   "name": "python3"
  },
  "language_info": {
   "codemirror_mode": {
    "name": "ipython",
    "version": 3
   },
   "file_extension": ".py",
   "mimetype": "text/x-python",
   "name": "python",
   "nbconvert_exporter": "python",
   "pygments_lexer": "ipython3",
   "version": "3.12.4"
  }
 },
 "nbformat": 4,
 "nbformat_minor": 2
}
