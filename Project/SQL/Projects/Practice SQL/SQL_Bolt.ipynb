{
 "cells": [
  {
   "cell_type": "markdown",
   "metadata": {},
   "source": [
    "## SQL BOLT Answers\n",
    "\n",
    "Hi All\n",
    "\n",
    "This is the answers I came up with to solve the problems in sqlbolt.com.\n",
    "I have used sqlbolt to practice my SQL questions. \n"
   ]
  },
  {
   "cell_type": "markdown",
   "metadata": {},
   "source": [
    "# SQL Lesson 1: SELECT queries 101\n",
    "\n",
    "Exercise 1: Find the title of each film <br>\n",
    "SELECT Title FROM movies;\n",
    "\n",
    "Exercise 2: Find the director of each film <br>\n",
    "SELECT Director FROM movies;\n",
    "\n",
    "Exercise 3: Find the title and director of each film <br>\n",
    "SELECT Title, Director FROM movies;\n",
    "\n",
    "Exercise 4: Find the title and year of each film <br>\n",
    "SELECT Title, Year FROM movies;\n",
    "\n",
    "Exercise 5: Find all the information about each film <br>\n",
    "SELECT * FROM movies;\n"
   ]
  },
  {
   "cell_type": "markdown",
   "metadata": {},
   "source": [
    "# SQL Lesson 2: Queries with constraints (Pt. 1)\n",
    "\n",
    "Exercise 1: Find the movie with a row id of 6 <br>\n",
    "SELECT * FROM movies WHERE id = 6;\n",
    "\n",
    "Exercise 2: Find the movies released in the years between 2000 - 2010 <br>\n",
    "SELECT * FROM movies WHERE year Between 2000 and 2010;\n",
    "\n",
    "Exercise 3: Find the movies not released in the years between 2000 - 2010 <br>\n",
    "SELECT * FROM movies WHERE year NOT Between 2000 and 2010;\n",
    "\n",
    "Exercise 4: Find the first 5 Pixar movies and their release year <br>\n",
    "SELECT * FROM movies WHERE id <=5;"
   ]
  },
  {
   "cell_type": "markdown",
   "metadata": {},
   "source": [
    "# SQL Lesson 3: Queries with constraints (Pt. 2)\n",
    "Exercise 1: Find all the Toy Story movies<br>\n",
    "SELECT * FROM movies WHERE title Like \"Toy Story%\";\n",
    "\n",
    "Exercise 2: Find all the movies directed by John Lasseter<br>\n",
    "SELECT * FROM movies WHERE Director = \"John Lasseter\";\n",
    "\n",
    "Exercise 3: Find all the movies (and director) not directed by John Lasseter<br>\n",
    "SELECT Title, Director FROM movies WHERE Director <> \"John Lasseter\";\n",
    "\n",
    "Exercise 4:Find all the WALL-* movies<br>\n",
    "SELECT * FROM movies WHERE Title Like \"WALL-%\";"
   ]
  },
  {
   "cell_type": "code",
   "execution_count": null,
   "metadata": {},
   "outputs": [],
   "source": []
  },
  {
   "cell_type": "code",
   "execution_count": null,
   "metadata": {},
   "outputs": [],
   "source": []
  },
  {
   "cell_type": "code",
   "execution_count": null,
   "metadata": {},
   "outputs": [],
   "source": []
  },
  {
   "cell_type": "code",
   "execution_count": null,
   "metadata": {},
   "outputs": [],
   "source": []
  }
 ],
 "metadata": {
  "kernelspec": {
   "display_name": "Python 3",
   "language": "python",
   "name": "python3"
  },
  "language_info": {
   "codemirror_mode": {
    "name": "ipython",
    "version": 3
   },
   "file_extension": ".py",
   "mimetype": "text/x-python",
   "name": "python",
   "nbconvert_exporter": "python",
   "pygments_lexer": "ipython3",
   "version": "3.10.2"
  },
  "orig_nbformat": 4
 },
 "nbformat": 4,
 "nbformat_minor": 2
}
