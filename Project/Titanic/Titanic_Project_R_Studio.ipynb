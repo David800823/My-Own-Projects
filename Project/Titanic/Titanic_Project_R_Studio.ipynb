{
  "cells": [
    {
      "cell_type": "markdown",
      "id": "80ca77c8",
      "metadata": {
        "id": "80ca77c8"
      },
      "source": [
        "# Load Data In"
      ]
    },
    {
      "cell_type": "code",
      "execution_count": null,
      "id": "7a34c36d",
      "metadata": {
        "id": "7a34c36d",
        "vscode": {
          "languageId": "r"
        }
      },
      "outputs": [],
      "source": [
        "train <- read.csv(file = '/train.csv')\n",
        "test <- read.csv(file = '/test.csv')"
      ]
    },
    {
      "cell_type": "code",
      "execution_count": null,
      "id": "31ec39bf",
      "metadata": {
        "id": "31ec39bf",
        "vscode": {
          "languageId": "r"
        }
      },
      "outputs": [],
      "source": [
        "# 0 mean dead\n",
        "# 1 means alive"
      ]
    },
    {
      "cell_type": "code",
      "execution_count": null,
      "id": "a42ebb0b",
      "metadata": {
        "id": "a42ebb0b",
        "vscode": {
          "languageId": "r"
        }
      },
      "outputs": [],
      "source": []
    },
    {
      "cell_type": "markdown",
      "id": "e9dfbac4",
      "metadata": {
        "id": "e9dfbac4"
      },
      "source": [
        "# Look at the first 6 rows of data for train and test"
      ]
    },
    {
      "cell_type": "code",
      "execution_count": null,
      "id": "7d6d6611",
      "metadata": {
        "colab": {
          "base_uri": "https://localhost:8080/",
          "height": 321
        },
        "id": "7d6d6611",
        "outputId": "43569904-db5a-4f3a-ed72-97b4b822e9f4",
        "vscode": {
          "languageId": "r"
        }
      },
      "outputs": [
        {
          "data": {
            "text/html": [
              "<table class=\"dataframe\">\n",
              "<caption>A data.frame: 6 × 12</caption>\n",
              "<thead>\n",
              "\t<tr><th></th><th scope=col>PassengerId</th><th scope=col>Survived</th><th scope=col>Pclass</th><th scope=col>Name</th><th scope=col>Sex</th><th scope=col>Age</th><th scope=col>SibSp</th><th scope=col>Parch</th><th scope=col>Ticket</th><th scope=col>Fare</th><th scope=col>Cabin</th><th scope=col>Embarked</th></tr>\n",
              "\t<tr><th></th><th scope=col>&lt;int&gt;</th><th scope=col>&lt;int&gt;</th><th scope=col>&lt;int&gt;</th><th scope=col>&lt;chr&gt;</th><th scope=col>&lt;chr&gt;</th><th scope=col>&lt;dbl&gt;</th><th scope=col>&lt;int&gt;</th><th scope=col>&lt;int&gt;</th><th scope=col>&lt;chr&gt;</th><th scope=col>&lt;dbl&gt;</th><th scope=col>&lt;chr&gt;</th><th scope=col>&lt;chr&gt;</th></tr>\n",
              "</thead>\n",
              "<tbody>\n",
              "\t<tr><th scope=row>1</th><td>1</td><td>0</td><td>3</td><td>Braund, Mr. Owen Harris                            </td><td>male  </td><td>22</td><td>1</td><td>0</td><td>A/5 21171       </td><td> 7.2500</td><td>    </td><td>S</td></tr>\n",
              "\t<tr><th scope=row>2</th><td>2</td><td>1</td><td>1</td><td>Cumings, Mrs. John Bradley (Florence Briggs Thayer)</td><td>female</td><td>38</td><td>1</td><td>0</td><td>PC 17599        </td><td>71.2833</td><td>C85 </td><td>C</td></tr>\n",
              "\t<tr><th scope=row>3</th><td>3</td><td>1</td><td>3</td><td>Heikkinen, Miss. Laina                             </td><td>female</td><td>26</td><td>0</td><td>0</td><td>STON/O2. 3101282</td><td> 7.9250</td><td>    </td><td>S</td></tr>\n",
              "\t<tr><th scope=row>4</th><td>4</td><td>1</td><td>1</td><td>Futrelle, Mrs. Jacques Heath (Lily May Peel)       </td><td>female</td><td>35</td><td>1</td><td>0</td><td>113803          </td><td>53.1000</td><td>C123</td><td>S</td></tr>\n",
              "\t<tr><th scope=row>5</th><td>5</td><td>0</td><td>3</td><td>Allen, Mr. William Henry                           </td><td>male  </td><td>35</td><td>0</td><td>0</td><td>373450          </td><td> 8.0500</td><td>    </td><td>S</td></tr>\n",
              "\t<tr><th scope=row>6</th><td>6</td><td>0</td><td>3</td><td>Moran, Mr. James                                   </td><td>male  </td><td>NA</td><td>0</td><td>0</td><td>330877          </td><td> 8.4583</td><td>    </td><td>Q</td></tr>\n",
              "</tbody>\n",
              "</table>\n"
            ],
            "text/latex": [
              "A data.frame: 6 × 12\n",
              "\\begin{tabular}{r|llllllllllll}\n",
              "  & PassengerId & Survived & Pclass & Name & Sex & Age & SibSp & Parch & Ticket & Fare & Cabin & Embarked\\\\\n",
              "  & <int> & <int> & <int> & <chr> & <chr> & <dbl> & <int> & <int> & <chr> & <dbl> & <chr> & <chr>\\\\\n",
              "\\hline\n",
              "\t1 & 1 & 0 & 3 & Braund, Mr. Owen Harris                             & male   & 22 & 1 & 0 & A/5 21171        &  7.2500 &      & S\\\\\n",
              "\t2 & 2 & 1 & 1 & Cumings, Mrs. John Bradley (Florence Briggs Thayer) & female & 38 & 1 & 0 & PC 17599         & 71.2833 & C85  & C\\\\\n",
              "\t3 & 3 & 1 & 3 & Heikkinen, Miss. Laina                              & female & 26 & 0 & 0 & STON/O2. 3101282 &  7.9250 &      & S\\\\\n",
              "\t4 & 4 & 1 & 1 & Futrelle, Mrs. Jacques Heath (Lily May Peel)        & female & 35 & 1 & 0 & 113803           & 53.1000 & C123 & S\\\\\n",
              "\t5 & 5 & 0 & 3 & Allen, Mr. William Henry                            & male   & 35 & 0 & 0 & 373450           &  8.0500 &      & S\\\\\n",
              "\t6 & 6 & 0 & 3 & Moran, Mr. James                                    & male   & NA & 0 & 0 & 330877           &  8.4583 &      & Q\\\\\n",
              "\\end{tabular}\n"
            ],
            "text/markdown": [
              "\n",
              "A data.frame: 6 × 12\n",
              "\n",
              "| <!--/--> | PassengerId &lt;int&gt; | Survived &lt;int&gt; | Pclass &lt;int&gt; | Name &lt;chr&gt; | Sex &lt;chr&gt; | Age &lt;dbl&gt; | SibSp &lt;int&gt; | Parch &lt;int&gt; | Ticket &lt;chr&gt; | Fare &lt;dbl&gt; | Cabin &lt;chr&gt; | Embarked &lt;chr&gt; |\n",
              "|---|---|---|---|---|---|---|---|---|---|---|---|---|\n",
              "| 1 | 1 | 0 | 3 | Braund, Mr. Owen Harris                             | male   | 22 | 1 | 0 | A/5 21171        |  7.2500 | <!----> | S |\n",
              "| 2 | 2 | 1 | 1 | Cumings, Mrs. John Bradley (Florence Briggs Thayer) | female | 38 | 1 | 0 | PC 17599         | 71.2833 | C85  | C |\n",
              "| 3 | 3 | 1 | 3 | Heikkinen, Miss. Laina                              | female | 26 | 0 | 0 | STON/O2. 3101282 |  7.9250 | <!----> | S |\n",
              "| 4 | 4 | 1 | 1 | Futrelle, Mrs. Jacques Heath (Lily May Peel)        | female | 35 | 1 | 0 | 113803           | 53.1000 | C123 | S |\n",
              "| 5 | 5 | 0 | 3 | Allen, Mr. William Henry                            | male   | 35 | 0 | 0 | 373450           |  8.0500 | <!----> | S |\n",
              "| 6 | 6 | 0 | 3 | Moran, Mr. James                                    | male   | NA | 0 | 0 | 330877           |  8.4583 | <!----> | Q |\n",
              "\n"
            ],
            "text/plain": [
              "  PassengerId Survived Pclass\n",
              "1 1           0        3     \n",
              "2 2           1        1     \n",
              "3 3           1        3     \n",
              "4 4           1        1     \n",
              "5 5           0        3     \n",
              "6 6           0        3     \n",
              "  Name                                                Sex    Age SibSp Parch\n",
              "1 Braund, Mr. Owen Harris                             male   22  1     0    \n",
              "2 Cumings, Mrs. John Bradley (Florence Briggs Thayer) female 38  1     0    \n",
              "3 Heikkinen, Miss. Laina                              female 26  0     0    \n",
              "4 Futrelle, Mrs. Jacques Heath (Lily May Peel)        female 35  1     0    \n",
              "5 Allen, Mr. William Henry                            male   35  0     0    \n",
              "6 Moran, Mr. James                                    male   NA  0     0    \n",
              "  Ticket           Fare    Cabin Embarked\n",
              "1 A/5 21171         7.2500       S       \n",
              "2 PC 17599         71.2833 C85   C       \n",
              "3 STON/O2. 3101282  7.9250       S       \n",
              "4 113803           53.1000 C123  S       \n",
              "5 373450            8.0500       S       \n",
              "6 330877            8.4583       Q       "
            ]
          },
          "metadata": {},
          "output_type": "display_data"
        }
      ],
      "source": [
        "head(train)"
      ]
    },
    {
      "cell_type": "code",
      "execution_count": null,
      "id": "7619f47e",
      "metadata": {
        "colab": {
          "base_uri": "https://localhost:8080/",
          "height": 34
        },
        "id": "7619f47e",
        "outputId": "a14731d1-1708-4c15-8222-4b4e4910c7d8",
        "vscode": {
          "languageId": "r"
        }
      },
      "outputs": [
        {
          "data": {
            "text/html": [
              "<style>\n",
              ".list-inline {list-style: none; margin:0; padding: 0}\n",
              ".list-inline>li {display: inline-block}\n",
              ".list-inline>li:not(:last-child)::after {content: \"\\00b7\"; padding: 0 .5ex}\n",
              "</style>\n",
              "<ol class=list-inline><li>891</li><li>12</li></ol>\n"
            ],
            "text/latex": [
              "\\begin{enumerate*}\n",
              "\\item 891\n",
              "\\item 12\n",
              "\\end{enumerate*}\n"
            ],
            "text/markdown": [
              "1. 891\n",
              "2. 12\n",
              "\n",
              "\n"
            ],
            "text/plain": [
              "[1] 891  12"
            ]
          },
          "metadata": {},
          "output_type": "display_data"
        }
      ],
      "source": [
        "dim(train)"
      ]
    },
    {
      "cell_type": "code",
      "execution_count": null,
      "id": "d3df3e87",
      "metadata": {
        "colab": {
          "base_uri": "https://localhost:8080/",
          "height": 286
        },
        "id": "d3df3e87",
        "outputId": "59c3f419-7d94-4b13-dcd7-e53db01b4559",
        "vscode": {
          "languageId": "r"
        }
      },
      "outputs": [
        {
          "data": {
            "text/html": [
              "<table class=\"dataframe\">\n",
              "<caption>A data.frame: 6 × 11</caption>\n",
              "<thead>\n",
              "\t<tr><th></th><th scope=col>PassengerId</th><th scope=col>Pclass</th><th scope=col>Name</th><th scope=col>Sex</th><th scope=col>Age</th><th scope=col>SibSp</th><th scope=col>Parch</th><th scope=col>Ticket</th><th scope=col>Fare</th><th scope=col>Cabin</th><th scope=col>Embarked</th></tr>\n",
              "\t<tr><th></th><th scope=col>&lt;int&gt;</th><th scope=col>&lt;int&gt;</th><th scope=col>&lt;chr&gt;</th><th scope=col>&lt;chr&gt;</th><th scope=col>&lt;dbl&gt;</th><th scope=col>&lt;int&gt;</th><th scope=col>&lt;int&gt;</th><th scope=col>&lt;chr&gt;</th><th scope=col>&lt;dbl&gt;</th><th scope=col>&lt;chr&gt;</th><th scope=col>&lt;chr&gt;</th></tr>\n",
              "</thead>\n",
              "<tbody>\n",
              "\t<tr><th scope=row>1</th><td>892</td><td>3</td><td>Kelly, Mr. James                            </td><td>male  </td><td>34.5</td><td>0</td><td>0</td><td>330911 </td><td> 7.8292</td><td></td><td>Q</td></tr>\n",
              "\t<tr><th scope=row>2</th><td>893</td><td>3</td><td>Wilkes, Mrs. James (Ellen Needs)            </td><td>female</td><td>47.0</td><td>1</td><td>0</td><td>363272 </td><td> 7.0000</td><td></td><td>S</td></tr>\n",
              "\t<tr><th scope=row>3</th><td>894</td><td>2</td><td>Myles, Mr. Thomas Francis                   </td><td>male  </td><td>62.0</td><td>0</td><td>0</td><td>240276 </td><td> 9.6875</td><td></td><td>Q</td></tr>\n",
              "\t<tr><th scope=row>4</th><td>895</td><td>3</td><td>Wirz, Mr. Albert                            </td><td>male  </td><td>27.0</td><td>0</td><td>0</td><td>315154 </td><td> 8.6625</td><td></td><td>S</td></tr>\n",
              "\t<tr><th scope=row>5</th><td>896</td><td>3</td><td>Hirvonen, Mrs. Alexander (Helga E Lindqvist)</td><td>female</td><td>22.0</td><td>1</td><td>1</td><td>3101298</td><td>12.2875</td><td></td><td>S</td></tr>\n",
              "\t<tr><th scope=row>6</th><td>897</td><td>3</td><td>Svensson, Mr. Johan Cervin                  </td><td>male  </td><td>14.0</td><td>0</td><td>0</td><td>7538   </td><td> 9.2250</td><td></td><td>S</td></tr>\n",
              "</tbody>\n",
              "</table>\n"
            ],
            "text/latex": [
              "A data.frame: 6 × 11\n",
              "\\begin{tabular}{r|lllllllllll}\n",
              "  & PassengerId & Pclass & Name & Sex & Age & SibSp & Parch & Ticket & Fare & Cabin & Embarked\\\\\n",
              "  & <int> & <int> & <chr> & <chr> & <dbl> & <int> & <int> & <chr> & <dbl> & <chr> & <chr>\\\\\n",
              "\\hline\n",
              "\t1 & 892 & 3 & Kelly, Mr. James                             & male   & 34.5 & 0 & 0 & 330911  &  7.8292 &  & Q\\\\\n",
              "\t2 & 893 & 3 & Wilkes, Mrs. James (Ellen Needs)             & female & 47.0 & 1 & 0 & 363272  &  7.0000 &  & S\\\\\n",
              "\t3 & 894 & 2 & Myles, Mr. Thomas Francis                    & male   & 62.0 & 0 & 0 & 240276  &  9.6875 &  & Q\\\\\n",
              "\t4 & 895 & 3 & Wirz, Mr. Albert                             & male   & 27.0 & 0 & 0 & 315154  &  8.6625 &  & S\\\\\n",
              "\t5 & 896 & 3 & Hirvonen, Mrs. Alexander (Helga E Lindqvist) & female & 22.0 & 1 & 1 & 3101298 & 12.2875 &  & S\\\\\n",
              "\t6 & 897 & 3 & Svensson, Mr. Johan Cervin                   & male   & 14.0 & 0 & 0 & 7538    &  9.2250 &  & S\\\\\n",
              "\\end{tabular}\n"
            ],
            "text/markdown": [
              "\n",
              "A data.frame: 6 × 11\n",
              "\n",
              "| <!--/--> | PassengerId &lt;int&gt; | Pclass &lt;int&gt; | Name &lt;chr&gt; | Sex &lt;chr&gt; | Age &lt;dbl&gt; | SibSp &lt;int&gt; | Parch &lt;int&gt; | Ticket &lt;chr&gt; | Fare &lt;dbl&gt; | Cabin &lt;chr&gt; | Embarked &lt;chr&gt; |\n",
              "|---|---|---|---|---|---|---|---|---|---|---|---|\n",
              "| 1 | 892 | 3 | Kelly, Mr. James                             | male   | 34.5 | 0 | 0 | 330911  |  7.8292 | <!----> | Q |\n",
              "| 2 | 893 | 3 | Wilkes, Mrs. James (Ellen Needs)             | female | 47.0 | 1 | 0 | 363272  |  7.0000 | <!----> | S |\n",
              "| 3 | 894 | 2 | Myles, Mr. Thomas Francis                    | male   | 62.0 | 0 | 0 | 240276  |  9.6875 | <!----> | Q |\n",
              "| 4 | 895 | 3 | Wirz, Mr. Albert                             | male   | 27.0 | 0 | 0 | 315154  |  8.6625 | <!----> | S |\n",
              "| 5 | 896 | 3 | Hirvonen, Mrs. Alexander (Helga E Lindqvist) | female | 22.0 | 1 | 1 | 3101298 | 12.2875 | <!----> | S |\n",
              "| 6 | 897 | 3 | Svensson, Mr. Johan Cervin                   | male   | 14.0 | 0 | 0 | 7538    |  9.2250 | <!----> | S |\n",
              "\n"
            ],
            "text/plain": [
              "  PassengerId Pclass Name                                         Sex    Age \n",
              "1 892         3      Kelly, Mr. James                             male   34.5\n",
              "2 893         3      Wilkes, Mrs. James (Ellen Needs)             female 47.0\n",
              "3 894         2      Myles, Mr. Thomas Francis                    male   62.0\n",
              "4 895         3      Wirz, Mr. Albert                             male   27.0\n",
              "5 896         3      Hirvonen, Mrs. Alexander (Helga E Lindqvist) female 22.0\n",
              "6 897         3      Svensson, Mr. Johan Cervin                   male   14.0\n",
              "  SibSp Parch Ticket  Fare    Cabin Embarked\n",
              "1 0     0     330911   7.8292       Q       \n",
              "2 1     0     363272   7.0000       S       \n",
              "3 0     0     240276   9.6875       Q       \n",
              "4 0     0     315154   8.6625       S       \n",
              "5 1     1     3101298 12.2875       S       \n",
              "6 0     0     7538     9.2250       S       "
            ]
          },
          "metadata": {},
          "output_type": "display_data"
        }
      ],
      "source": [
        "head(test)"
      ]
    },
    {
      "cell_type": "code",
      "execution_count": null,
      "id": "a1609b4a",
      "metadata": {
        "colab": {
          "base_uri": "https://localhost:8080/",
          "height": 434
        },
        "id": "a1609b4a",
        "outputId": "e04d28e7-e5b4-4448-c385-f938c9dfedd6",
        "vscode": {
          "languageId": "r"
        }
      },
      "outputs": [
        {
          "data": {
            "text/plain": [
              "  PassengerId       Survived          Pclass          Name          \n",
              " Min.   :  1.0   Min.   :0.0000   Min.   :1.000   Length:891        \n",
              " 1st Qu.:223.5   1st Qu.:0.0000   1st Qu.:2.000   Class :character  \n",
              " Median :446.0   Median :0.0000   Median :3.000   Mode  :character  \n",
              " Mean   :446.0   Mean   :0.3838   Mean   :2.309                     \n",
              " 3rd Qu.:668.5   3rd Qu.:1.0000   3rd Qu.:3.000                     \n",
              " Max.   :891.0   Max.   :1.0000   Max.   :3.000                     \n",
              "                                                                    \n",
              "     Sex                 Age            SibSp           Parch       \n",
              " Length:891         Min.   : 0.42   Min.   :0.000   Min.   :0.0000  \n",
              " Class :character   1st Qu.:20.12   1st Qu.:0.000   1st Qu.:0.0000  \n",
              " Mode  :character   Median :28.00   Median :0.000   Median :0.0000  \n",
              "                    Mean   :29.70   Mean   :0.523   Mean   :0.3816  \n",
              "                    3rd Qu.:38.00   3rd Qu.:1.000   3rd Qu.:0.0000  \n",
              "                    Max.   :80.00   Max.   :8.000   Max.   :6.0000  \n",
              "                    NA's   :177                                     \n",
              "    Ticket               Fare           Cabin             Embarked        \n",
              " Length:891         Min.   :  0.00   Length:891         Length:891        \n",
              " Class :character   1st Qu.:  7.91   Class :character   Class :character  \n",
              " Mode  :character   Median : 14.45   Mode  :character   Mode  :character  \n",
              "                    Mean   : 32.20                                        \n",
              "                    3rd Qu.: 31.00                                        \n",
              "                    Max.   :512.33                                        \n",
              "                                                                          "
            ]
          },
          "metadata": {},
          "output_type": "display_data"
        }
      ],
      "source": [
        "summary(train)"
      ]
    },
    {
      "cell_type": "code",
      "execution_count": null,
      "id": "aa4e1b66",
      "metadata": {
        "colab": {
          "base_uri": "https://localhost:8080/",
          "height": 69
        },
        "id": "aa4e1b66",
        "outputId": "b6589d0a-b77a-46a7-c609-1cc823cbe83c",
        "vscode": {
          "languageId": "r"
        }
      },
      "outputs": [
        {
          "data": {
            "text/plain": [
              "\n",
              "female   male \n",
              "   314    577 "
            ]
          },
          "metadata": {},
          "output_type": "display_data"
        }
      ],
      "source": [
        "table(train$Sex)"
      ]
    },
    {
      "cell_type": "code",
      "execution_count": null,
      "id": "3bd90d41",
      "metadata": {
        "colab": {
          "base_uri": "https://localhost:8080/",
          "height": 437
        },
        "id": "3bd90d41",
        "outputId": "e43c0348-1802-464a-89c4-bd30b0945f28",
        "vscode": {
          "languageId": "r"
        }
      },
      "outputs": [
        {
          "data": {
            "image/png": "[encoded data removed]",
            "text/plain": [
              "Plot with title “Sex”"
            ]
          },
          "metadata": {
            "image/png": {
              "height": 420,
              "width": 420
            }
          },
          "output_type": "display_data"
        }
      ],
      "source": [
        "barplot(table(train$Sex), ylab = 'Count', main = 'Sex')"
      ]
    },
    {
      "cell_type": "code",
      "execution_count": null,
      "id": "5a39cb4e",
      "metadata": {
        "colab": {
          "base_uri": "https://localhost:8080/",
          "height": 69
        },
        "id": "5a39cb4e",
        "outputId": "025d0aae-5c9e-499e-a3d7-ec7e95e37dc5",
        "vscode": {
          "languageId": "r"
        }
      },
      "outputs": [
        {
          "data": {
            "text/plain": [
              "\n",
              "  1   2   3 \n",
              "216 184 491 "
            ]
          },
          "metadata": {},
          "output_type": "display_data"
        }
      ],
      "source": [
        "table(train$Pclass)"
      ]
    },
    {
      "cell_type": "code",
      "execution_count": null,
      "id": "105fb762",
      "metadata": {
        "colab": {
          "base_uri": "https://localhost:8080/",
          "height": 437
        },
        "id": "105fb762",
        "outputId": "66f8acf9-47ee-46ec-ca26-efeff3b6863b",
        "scrolled": true,
        "vscode": {
          "languageId": "r"
        }
      },
      "outputs": [
        {
          "data": {
            "image/png": "[encoded data removed]",
            "text/plain": [
              "Plot with title “Class of Passanger”"
            ]
          },
          "metadata": {
            "image/png": {
              "height": 420,
              "width": 420
            }
          },
          "output_type": "display_data"
        }
      ],
      "source": [
        "barplot(table(train$Pclass), xlab = 'Class of Passanger', ylab = 'Count', main = 'Class of Passanger')"
      ]
    },
    {
      "cell_type": "code",
      "execution_count": null,
      "id": "37d87d6d",
      "metadata": {
        "colab": {
          "base_uri": "https://localhost:8080/",
          "height": 437
        },
        "id": "37d87d6d",
        "outputId": "e96370cf-c6f9-4193-9a46-f43f9b9a935f",
        "scrolled": true,
        "vscode": {
          "languageId": "r"
        }
      },
      "outputs": [
        {
          "data": {
            "image/png": "[encoded data removed]",
            "text/plain": [
              "Plot with title “Histogram of Age”"
            ]
          },
          "metadata": {
            "image/png": {
              "height": 420,
              "width": 420
            }
          },
          "output_type": "display_data"
        }
      ],
      "source": [
        "hist(train$Age, xlab = 'Age', main = 'Histogram of Age')"
      ]
    },
    {
      "cell_type": "code",
      "execution_count": null,
      "id": "6749ed69",
      "metadata": {
        "colab": {
          "base_uri": "https://localhost:8080/",
          "height": 69
        },
        "id": "6749ed69",
        "outputId": "b95b71ff-bd39-4db3-ce18-d34042488681",
        "vscode": {
          "languageId": "r"
        }
      },
      "outputs": [
        {
          "data": {
            "text/plain": [
              "\n",
              "  0   1 \n",
              "549 342 "
            ]
          },
          "metadata": {},
          "output_type": "display_data"
        }
      ],
      "source": [
        "table(train$Survived)"
      ]
    },
    {
      "cell_type": "code",
      "execution_count": null,
      "id": "207693f9",
      "metadata": {
        "colab": {
          "base_uri": "https://localhost:8080/",
          "height": 437
        },
        "id": "207693f9",
        "outputId": "e2dfa5e2-b3ef-495f-e771-3af3f366fa24",
        "scrolled": true,
        "vscode": {
          "languageId": "r"
        }
      },
      "outputs": [
        {
          "data": {
            "image/png": "[encoded data removed]",
            "text/plain": [
              "Plot with title “Survival”"
            ]
          },
          "metadata": {
            "image/png": {
              "height": 420,
              "width": 420
            }
          },
          "output_type": "display_data"
        }
      ],
      "source": [
        "barplot(table(train$Survived), xlab = ' No = 0 | Yes = 1 ', main = 'Survival')"
      ]
    },
    {
      "cell_type": "code",
      "execution_count": null,
      "id": "ce7845be",
      "metadata": {
        "colab": {
          "base_uri": "https://localhost:8080/",
          "height": 86
        },
        "id": "ce7845be",
        "outputId": "89c0e489-3a25-4eef-acfe-fb19a8f7ff30",
        "vscode": {
          "languageId": "r"
        }
      },
      "outputs": [
        {
          "data": {
            "text/plain": [
              "        \n",
              "           0   1\n",
              "  female  81 233\n",
              "  male   468 109"
            ]
          },
          "metadata": {},
          "output_type": "display_data"
        }
      ],
      "source": [
        "table(train$Sex, train$Survived)"
      ]
    },
    {
      "cell_type": "code",
      "execution_count": null,
      "id": "8b74549c",
      "metadata": {
        "colab": {
          "base_uri": "https://localhost:8080/",
          "height": 437
        },
        "id": "8b74549c",
        "outputId": "23f90d01-a0df-4612-95f0-318ea3ec0c35",
        "vscode": {
          "languageId": "r"
        }
      },
      "outputs": [
        {
          "data": {
            "image/png": "[encoded data removed]",
            "text/plain": [
              "plot without title"
            ]
          },
          "metadata": {
            "image/png": {
              "height": 420,
              "width": 420
            }
          },
          "output_type": "display_data"
        }
      ],
      "source": [
        "barplot(table(train$Survived, train$Sex))"
      ]
    },
    {
      "cell_type": "code",
      "execution_count": null,
      "id": "fe243ccc",
      "metadata": {
        "colab": {
          "base_uri": "https://localhost:8080/",
          "height": 86
        },
        "id": "fe243ccc",
        "outputId": "be6b5531-22d6-401b-cf0a-7607d096c9a0",
        "vscode": {
          "languageId": "r"
        }
      },
      "outputs": [
        {
          "data": {
            "text/plain": [
              "   \n",
              "      1   2   3\n",
              "  0  80  97 372\n",
              "  1 136  87 119"
            ]
          },
          "metadata": {},
          "output_type": "display_data"
        }
      ],
      "source": [
        "table(train$Survived, train$Pclass)"
      ]
    },
    {
      "cell_type": "code",
      "execution_count": null,
      "id": "f036d616",
      "metadata": {
        "colab": {
          "base_uri": "https://localhost:8080/",
          "height": 437
        },
        "id": "f036d616",
        "outputId": "6ca00977-3db7-4505-e198-5a095be05d88",
        "vscode": {
          "languageId": "r"
        }
      },
      "outputs": [
        {
          "data": {
            "image/png": "[encoded data removed]",
            "text/plain": [
              "plot without title"
            ]
          },
          "metadata": {
            "image/png": {
              "height": 420,
              "width": 420
            }
          },
          "output_type": "display_data"
        }
      ],
      "source": [
        "barplot(table(train$Survived, train$Pclass), xlab = 'Passanger Class')"
      ]
    },
    {
      "cell_type": "markdown",
      "id": "37116103",
      "metadata": {
        "id": "37116103"
      },
      "source": [
        "# Decesion Tree"
      ]
    },
    {
      "cell_type": "code",
      "execution_count": null,
      "id": "myxzfklUEHrn",
      "metadata": {
        "colab": {
          "base_uri": "https://localhost:8080/"
        },
        "id": "myxzfklUEHrn",
        "outputId": "8d04233c-d161-426f-b7fb-159c753c5f2d",
        "vscode": {
          "languageId": "r"
        }
      },
      "outputs": [
        {
          "name": "stderr",
          "output_type": "stream",
          "text": [
            "Installing package into ‘/usr/local/lib/R/site-library’\n",
            "(as ‘lib’ is unspecified)\n",
            "\n"
          ]
        }
      ],
      "source": [
        "install.packages('tree')"
      ]
    },
    {
      "cell_type": "code",
      "execution_count": null,
      "id": "6463263b",
      "metadata": {
        "id": "6463263b",
        "vscode": {
          "languageId": "r"
        }
      },
      "outputs": [],
      "source": [
        "library(tree)"
      ]
    },
    {
      "cell_type": "code",
      "execution_count": null,
      "id": "cc75b0da",
      "metadata": {
        "colab": {
          "base_uri": "https://localhost:8080/"
        },
        "id": "cc75b0da",
        "outputId": "b0e40401-d91f-4a3b-bed2-8ad41f309d6f",
        "vscode": {
          "languageId": "r"
        }
      },
      "outputs": [
        {
          "name": "stderr",
          "output_type": "stream",
          "text": [
            "Warning message in tree(Survived ~ Sex + Pclass + Age, data = train):\n",
            "“NAs introduced by coercion”\n"
          ]
        }
      ],
      "source": [
        "dec_tree <- tree(Survived ~ Sex + Pclass + Age, data = train)"
      ]
    },
    {
      "cell_type": "code",
      "execution_count": null,
      "id": "266ed4d5",
      "metadata": {
        "colab": {
          "base_uri": "https://localhost:8080/",
          "height": 191
        },
        "id": "266ed4d5",
        "outputId": "e8db17ee-fcc4-45a5-bc2c-134c075ccb10",
        "vscode": {
          "languageId": "r"
        }
      },
      "outputs": [
        {
          "data": {
            "text/plain": [
              "\n",
              "Regression tree:\n",
              "tree(formula = Survived ~ Sex + Pclass + Age, data = train)\n",
              "Variables actually used in tree construction:\n",
              "[1] \"Pclass\" \"Age\"   \n",
              "Number of terminal nodes:  6 \n",
              "Residual mean deviance:  0.1944 = 137.6 / 708 \n",
              "Distribution of residuals:\n",
              "   Min. 1st Qu.  Median    Mean 3rd Qu.    Max. \n",
              "-0.9143 -0.2092 -0.2092  0.0000  0.3904  0.7908 "
            ]
          },
          "metadata": {},
          "output_type": "display_data"
        }
      ],
      "source": [
        "summary(dec_tree)"
      ]
    },
    {
      "cell_type": "code",
      "execution_count": null,
      "id": "010b7f41",
      "metadata": {
        "colab": {
          "base_uri": "https://localhost:8080/",
          "height": 437
        },
        "id": "010b7f41",
        "outputId": "b8e82391-fdfb-4f0d-d624-caa9003e1a9a",
        "vscode": {
          "languageId": "r"
        }
      },
      "outputs": [
        {
          "data": {
            "image/png": "[encoded data removed]",
            "text/plain": [
              "plot without title"
            ]
          },
          "metadata": {
            "image/png": {
              "height": 420,
              "width": 420
            }
          },
          "output_type": "display_data"
        }
      ],
      "source": [
        "plot(dec_tree)\n",
        "text(dec_tree, pretty = 0)\n",
        "#left side means yes\n",
        "#right side means no"
      ]
    },
    {
      "cell_type": "code",
      "execution_count": null,
      "id": "5bd0cf44",
      "metadata": {
        "id": "5bd0cf44",
        "outputId": "097a1dc1-43a5-4e20-f671-d35899d0d56d",
        "vscode": {
          "languageId": "r"
        }
      },
      "outputs": [
        {
          "name": "stdout",
          "output_type": "stream",
          "text": [
            "node), split, n, deviance, yval\n",
            "      * denotes terminal node\n",
            "\n",
            " 1) root 714 172.2000 0.40620  \n",
            "   2) Sex: female 261  48.3100 0.75480  \n",
            "     4) Pclass < 2.5 159   8.4910 0.94340 *\n",
            "     5) Pclass > 2.5 102  25.3400 0.46080  \n",
            "      10) Age < 38.5 90  22.4900 0.51110 *\n",
            "      11) Age > 38.5 12   0.9167 0.08333 *\n",
            "   3) Sex: male 453  73.9100 0.20530  \n",
            "     6) Age < 6.5 24   5.3330 0.66670  \n",
            "      12) Pclass < 2.5 10   0.0000 1.00000 *\n",
            "      13) Pclass > 2.5 14   3.4290 0.42860 *\n",
            "     7) Age > 6.5 429  63.1800 0.17950  \n",
            "      14) Pclass < 1.5 99  23.4100 0.38380  \n",
            "        28) Age < 53 77  19.0900 0.45450 *\n",
            "        29) Age > 53 22   2.5910 0.13640 *\n",
            "      15) Pclass > 1.5 330  34.3900 0.11820 *\n"
          ]
        }
      ],
      "source": [
        "print(dec_tree)"
      ]
    },
    {
      "cell_type": "code",
      "execution_count": null,
      "id": "2c4fd1b9",
      "metadata": {
        "id": "2c4fd1b9",
        "outputId": "fdbeca42-dd21-4fdc-80b5-e3622f19f9df",
        "vscode": {
          "languageId": "r"
        }
      },
      "outputs": [
        {
          "data": {
            "text/html": [
              "<dl>\n",
              "\t<dt>$platform</dt>\n",
              "\t\t<dd>'x86_64-w64-mingw32'</dd>\n",
              "\t<dt>$arch</dt>\n",
              "\t\t<dd>'x86_64'</dd>\n",
              "\t<dt>$os</dt>\n",
              "\t\t<dd>'mingw32'</dd>\n",
              "\t<dt>$system</dt>\n",
              "\t\t<dd>'x86_64, mingw32'</dd>\n",
              "\t<dt>$status</dt>\n",
              "\t\t<dd>''</dd>\n",
              "\t<dt>$major</dt>\n",
              "\t\t<dd>'3'</dd>\n",
              "\t<dt>$minor</dt>\n",
              "\t\t<dd>'6.1'</dd>\n",
              "\t<dt>$year</dt>\n",
              "\t\t<dd>'2019'</dd>\n",
              "\t<dt>$month</dt>\n",
              "\t\t<dd>'07'</dd>\n",
              "\t<dt>$day</dt>\n",
              "\t\t<dd>'05'</dd>\n",
              "\t<dt>$`svn rev`</dt>\n",
              "\t\t<dd>'76782'</dd>\n",
              "\t<dt>$language</dt>\n",
              "\t\t<dd>'R'</dd>\n",
              "\t<dt>$version.string</dt>\n",
              "\t\t<dd>'R version 3.6.1 (2019-07-05)'</dd>\n",
              "\t<dt>$nickname</dt>\n",
              "\t\t<dd>'Action of the Toes'</dd>\n",
              "</dl>\n"
            ],
            "text/latex": [
              "\\begin{description}\n",
              "\\item[\\$platform] 'x86\\_64-w64-mingw32'\n",
              "\\item[\\$arch] 'x86\\_64'\n",
              "\\item[\\$os] 'mingw32'\n",
              "\\item[\\$system] 'x86\\_64, mingw32'\n",
              "\\item[\\$status] ''\n",
              "\\item[\\$major] '3'\n",
              "\\item[\\$minor] '6.1'\n",
              "\\item[\\$year] '2019'\n",
              "\\item[\\$month] '07'\n",
              "\\item[\\$day] '05'\n",
              "\\item[\\$`svn rev`] '76782'\n",
              "\\item[\\$language] 'R'\n",
              "\\item[\\$version.string] 'R version 3.6.1 (2019-07-05)'\n",
              "\\item[\\$nickname] 'Action of the Toes'\n",
              "\\end{description}\n"
            ],
            "text/markdown": [
              "$platform\n",
              ":   'x86_64-w64-mingw32'\n",
              "$arch\n",
              ":   'x86_64'\n",
              "$os\n",
              ":   'mingw32'\n",
              "$system\n",
              ":   'x86_64, mingw32'\n",
              "$status\n",
              ":   ''\n",
              "$major\n",
              ":   '3'\n",
              "$minor\n",
              ":   '6.1'\n",
              "$year\n",
              ":   '2019'\n",
              "$month\n",
              ":   '07'\n",
              "$day\n",
              ":   '05'\n",
              "$`svn rev`\n",
              ":   '76782'\n",
              "$language\n",
              ":   'R'\n",
              "$version.string\n",
              ":   'R version 3.6.1 (2019-07-05)'\n",
              "$nickname\n",
              ":   'Action of the Toes'\n",
              "\n",
              "\n"
            ],
            "text/plain": [
              "$platform\n",
              "[1] \"x86_64-w64-mingw32\"\n",
              "\n",
              "$arch\n",
              "[1] \"x86_64\"\n",
              "\n",
              "$os\n",
              "[1] \"mingw32\"\n",
              "\n",
              "$system\n",
              "[1] \"x86_64, mingw32\"\n",
              "\n",
              "$status\n",
              "[1] \"\"\n",
              "\n",
              "$major\n",
              "[1] \"3\"\n",
              "\n",
              "$minor\n",
              "[1] \"6.1\"\n",
              "\n",
              "$year\n",
              "[1] \"2019\"\n",
              "\n",
              "$month\n",
              "[1] \"07\"\n",
              "\n",
              "$day\n",
              "[1] \"05\"\n",
              "\n",
              "$`svn rev`\n",
              "[1] \"76782\"\n",
              "\n",
              "$language\n",
              "[1] \"R\"\n",
              "\n",
              "$version.string\n",
              "[1] \"R version 3.6.1 (2019-07-05)\"\n",
              "\n",
              "$nickname\n",
              "[1] \"Action of the Toes\"\n"
            ]
          },
          "metadata": {},
          "output_type": "display_data"
        }
      ],
      "source": [
        "R.Version()"
      ]
    },
    {
      "cell_type": "markdown",
      "id": "d8a4cd66",
      "metadata": {
        "id": "d8a4cd66"
      },
      "source": [
        "# Logistic Regression"
      ]
    },
    {
      "cell_type": "code",
      "execution_count": null,
      "id": "399f8d83",
      "metadata": {
        "id": "399f8d83",
        "vscode": {
          "languageId": "r"
        }
      },
      "outputs": [],
      "source": [
        "logistic_1 <- glm(Survived ~ Sex + Pclass + Age, family = 'binomial', data = train)"
      ]
    },
    {
      "cell_type": "code",
      "execution_count": null,
      "id": "b09908e8",
      "metadata": {
        "id": "b09908e8",
        "outputId": "dcdedb4a-cf9b-494f-906d-aaeefbb6e28a",
        "vscode": {
          "languageId": "r"
        }
      },
      "outputs": [
        {
          "data": {
            "text/plain": [
              "\n",
              "Call:\n",
              "glm(formula = Survived ~ Sex + Pclass + Age, family = \"binomial\", \n",
              "    data = train)\n",
              "\n",
              "Deviance Residuals: \n",
              "    Min       1Q   Median       3Q      Max  \n",
              "-2.7270  -0.6799  -0.3947   0.6483   2.4668  \n",
              "\n",
              "Coefficients:\n",
              "             Estimate Std. Error z value Pr(>|z|)    \n",
              "(Intercept)  5.056006   0.502128  10.069  < 2e-16 ***\n",
              "Sexmale     -2.522131   0.207283 -12.168  < 2e-16 ***\n",
              "Pclass      -1.288545   0.139259  -9.253  < 2e-16 ***\n",
              "Age         -0.036929   0.007628  -4.841 1.29e-06 ***\n",
              "---\n",
              "Signif. codes:  0 '***' 0.001 '**' 0.01 '*' 0.05 '.' 0.1 ' ' 1\n",
              "\n",
              "(Dispersion parameter for binomial family taken to be 1)\n",
              "\n",
              "    Null deviance: 964.52  on 713  degrees of freedom\n",
              "Residual deviance: 647.29  on 710  degrees of freedom\n",
              "  (177 observations deleted due to missingness)\n",
              "AIC: 655.29\n",
              "\n",
              "Number of Fisher Scoring iterations: 5\n"
            ]
          },
          "metadata": {},
          "output_type": "display_data"
        }
      ],
      "source": [
        "summary(logistic_1)"
      ]
    },
    {
      "cell_type": "code",
      "execution_count": null,
      "id": "da8587b6",
      "metadata": {
        "id": "da8587b6",
        "outputId": "8196ff2d-3caf-4900-9a03-c038dac0907f",
        "vscode": {
          "languageId": "r"
        }
      },
      "outputs": [
        {
          "data": {
            "text/html": [
              "<strong>1:</strong> 0.731403562613692"
            ],
            "text/latex": [
              "\\textbf{1:} 0.731403562613692"
            ],
            "text/markdown": [
              "**1:** 0.731403562613692"
            ],
            "text/plain": [
              "        1 \n",
              "0.7314036 "
            ]
          },
          "metadata": {},
          "output_type": "display_data"
        }
      ],
      "source": [
        "new <- data.frame(Sex = 'female', Pclass = 2, Age = 40)\n",
        "predict(logistic_1, new, type = 'response')"
      ]
    },
    {
      "cell_type": "code",
      "execution_count": null,
      "id": "a58cbf2f",
      "metadata": {
        "id": "a58cbf2f",
        "outputId": "6683e2df-2952-4b14-d26f-efc6dcc57461",
        "vscode": {
          "languageId": "r"
        }
      },
      "outputs": [
        {
          "data": {
            "text/html": [
              "0.731403689071378"
            ],
            "text/latex": [
              "0.731403689071378"
            ],
            "text/markdown": [
              "0.731403689071378"
            ],
            "text/plain": [
              "[1] 0.7314037"
            ]
          },
          "metadata": {},
          "output_type": "display_data"
        }
      ],
      "source": [
        "sexmale = 0\n",
        "pclass = 2\n",
        "age = 40\n",
        "value <- (exp(5.056006 - (2.522131)*(sexmale) - (1.288545)*(pclass) - 0.036929*(age))/(exp(5.056006 - (2.522131)*(sexmale) - (1.288545)*(pclass) - 0.036929*(age)) +1))\n",
        "value"
      ]
    },
    {
      "cell_type": "code",
      "execution_count": null,
      "id": "2a60229f",
      "metadata": {
        "id": "2a60229f",
        "vscode": {
          "languageId": "r"
        }
      },
      "outputs": [],
      "source": []
    },
    {
      "cell_type": "code",
      "execution_count": null,
      "id": "6d0fff34",
      "metadata": {
        "id": "6d0fff34",
        "outputId": "84f5c600-32c3-4f3a-a430-7569503ed6f2",
        "vscode": {
          "languageId": "r"
        }
      },
      "outputs": [
        {
          "ename": "ERROR",
          "evalue": "Error in library(devtools): there is no package called 'devtools'\n",
          "output_type": "error",
          "traceback": [
            "Error in library(devtools): there is no package called 'devtools'\nTraceback:\n",
            "1. library(devtools)"
          ]
        }
      ],
      "source": [
        "library(devtools)"
      ]
    },
    {
      "cell_type": "code",
      "execution_count": null,
      "id": "bfd961f2",
      "metadata": {
        "id": "bfd961f2",
        "outputId": "1b69f7ad-66d3-4cd8-9d25-ad04176386cc",
        "vscode": {
          "languageId": "r"
        }
      },
      "outputs": [
        {
          "name": "stdout",
          "output_type": "stream",
          "text": [
            "fitting null model for pseudo-r2\n"
          ]
        },
        {
          "data": {
            "text/html": [
              "<strong>McFadden:</strong> 0.328895570878412"
            ],
            "text/latex": [
              "\\textbf{McFadden:} 0.328895570878412"
            ],
            "text/markdown": [
              "**McFadden:** 0.328895570878412"
            ],
            "text/plain": [
              " McFadden \n",
              "0.3288956 "
            ]
          },
          "metadata": {},
          "output_type": "display_data"
        }
      ],
      "source": [
        "pscl::pR2(logistic_1)['McFadden']"
      ]
    },
    {
      "cell_type": "code",
      "execution_count": null,
      "id": "33f39ab8",
      "metadata": {
        "id": "33f39ab8",
        "vscode": {
          "languageId": "r"
        }
      },
      "outputs": [],
      "source": []
    },
    {
      "cell_type": "code",
      "execution_count": null,
      "id": "bfb49597",
      "metadata": {
        "id": "bfb49597",
        "outputId": "5e278760-1748-4f22-ffa8-1be578a3a445",
        "vscode": {
          "languageId": "r"
        }
      },
      "outputs": [
        {
          "ename": "ERROR",
          "evalue": "Error in data.frame(Sex = female, ): object 'female' not found\n",
          "output_type": "error",
          "traceback": [
            "Error in data.frame(Sex = female, ): object 'female' not found\nTraceback:\n",
            "1. data.frame(Sex = female, )"
          ]
        }
      ],
      "source": [
        "new <- data.frame(Sex = female, )"
      ]
    },
    {
      "cell_type": "markdown",
      "id": "e479526f",
      "metadata": {
        "id": "e479526f"
      },
      "source": [
        "https://www.statology.org/logistic-regression-in-r/"
      ]
    },
    {
      "cell_type": "code",
      "execution_count": null,
      "id": "208f6cfc",
      "metadata": {
        "id": "208f6cfc",
        "vscode": {
          "languageId": "r"
        }
      },
      "outputs": [],
      "source": []
    },
    {
      "cell_type": "code",
      "execution_count": null,
      "id": "2d99dd8e",
      "metadata": {
        "id": "2d99dd8e",
        "vscode": {
          "languageId": "r"
        }
      },
      "outputs": [],
      "source": []
    },
    {
      "cell_type": "code",
      "execution_count": null,
      "id": "4883fc83",
      "metadata": {
        "id": "4883fc83",
        "vscode": {
          "languageId": "r"
        }
      },
      "outputs": [],
      "source": []
    },
    {
      "cell_type": "code",
      "execution_count": null,
      "id": "5b645f69",
      "metadata": {
        "id": "5b645f69",
        "vscode": {
          "languageId": "r"
        }
      },
      "outputs": [],
      "source": []
    },
    {
      "cell_type": "code",
      "execution_count": null,
      "id": "fd21fa61",
      "metadata": {
        "id": "fd21fa61",
        "vscode": {
          "languageId": "r"
        }
      },
      "outputs": [],
      "source": []
    },
    {
      "cell_type": "code",
      "execution_count": null,
      "id": "70471e0d",
      "metadata": {
        "id": "70471e0d",
        "vscode": {
          "languageId": "r"
        }
      },
      "outputs": [],
      "source": []
    },
    {
      "cell_type": "code",
      "execution_count": null,
      "id": "14bebab5",
      "metadata": {
        "id": "14bebab5",
        "vscode": {
          "languageId": "r"
        }
      },
      "outputs": [],
      "source": []
    },
    {
      "cell_type": "code",
      "execution_count": null,
      "id": "55d91e72",
      "metadata": {
        "id": "55d91e72",
        "vscode": {
          "languageId": "r"
        }
      },
      "outputs": [],
      "source": []
    }
  ],
  "metadata": {
    "colab": {
      "provenance": []
    },
    "kernelspec": {
      "display_name": "R 4.0.0",
      "language": "R",
      "name": "ir35"
    },
    "language_info": {
      "codemirror_mode": "r",
      "file_extension": ".r",
      "mimetype": "text/x-r-source",
      "name": "R",
      "pygments_lexer": "r",
      "version": "3.6.1"
    }
  },
  "nbformat": 4,
  "nbformat_minor": 5
}
